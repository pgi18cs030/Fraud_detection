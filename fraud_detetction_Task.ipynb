{
  "nbformat": 4,
  "nbformat_minor": 0,
  "metadata": {
    "colab": {
      "name": "fraud detetction Task.ipynb",
      "provenance": [],
      "collapsed_sections": []
    },
    "kernelspec": {
      "display_name": "Python 3",
      "name": "python3"
    },
    "language_info": {
      "name": "python"
    }
  },
  "cells": [
    {
      "cell_type": "markdown",
      "metadata": {
        "id": "ZSIKEwDrAmeL"
      },
      "source": [
        "**Problem Statement :** Fraud detection is an important aspect of banking and financial companies. It’s essential for both financial institutions as well as their customers to be able to identify fraud quickly and accurately. objective is to build a predictive model to determine whether a given transaction will be fraudulent or not. "
      ]
    },
    {
      "cell_type": "markdown",
      "metadata": {
        "id": "1F8oIRl9A3k1"
      },
      "source": [
        "**Name :** Prashant Jain\n"
      ]
    },
    {
      "cell_type": "markdown",
      "metadata": {
        "id": "dTncqP61DFSK"
      },
      "source": [
        "#**Model Deployment Link  :** https://frauddetection12.herokuapp.com/"
      ]
    },
    {
      "cell_type": "markdown",
      "metadata": {
        "id": "CrsuHNj1BnNr"
      },
      "source": [
        "###**Content**"
      ]
    },
    {
      "cell_type": "markdown",
      "metadata": {
        "id": "5WpOlgyJBrub"
      },
      "source": [
        "**Load and Import Data**\n",
        "\n",
        "* 1. load the dataset.\n",
        "* 2. Describe the structure of the data.\n",
        "\n",
        "**Make Plots**\n",
        "* 1. Plot a histogram of the transactionAmount column.\n",
        "\n",
        "* 2. Report any structure you find and any hypotheses you have about that structure.\n",
        "\n",
        "**Data Wrangling - Duplicate Transactions**\n",
        "\n",
        "* 1. Programmatically identify reversed and multi-swipe transactions.\n",
        "     * 1.1. Reversal transaction.\n",
        "     * 1.2. Multi-swipe transaction.\n",
        "* 2. Total number of transactions and total dollar amount estimated for the reversed transactions and the multi-swipe transactions.\n",
        "\n",
        "* 3. Anything interesting about either kind of transaction.\n",
        "\n",
        "     * 3.1. Mechant category of different kinds of duplicates.\n",
        "     * 3.2. Time span between duplicates.\n",
        "\n",
        "**Model Building.**\n",
        "\n",
        "* 1. Build a predictive model to determine whether a given transaction will be fraudulent or not.\n",
        "\n",
        "    * 1.1. Missing value.\n",
        "    * 1.2. Feature engineering.\n",
        "    * 1.3. Feature selection.\n",
        "    * 1.4. Preprocess.\n",
        "    * 1.5. SMOTE.\n",
        "    * 1.6. Model building.\n",
        "* 2. Provide an estimate of performance using an appropriate sample.\n",
        "\n",
        "* 3. Explain the methodolog.\n",
        "    * 3.1. Methodology.\n",
        "\n",
        "\n"
      ]
    },
    {
      "cell_type": "markdown",
      "metadata": {
        "id": "5Fdtr9NDkndv"
      },
      "source": [
        "###**Importing Essential Libraries**"
      ]
    },
    {
      "cell_type": "code",
      "metadata": {
        "id": "80rhkq6JkRIw"
      },
      "source": [
        "import warnings\n",
        "warnings.filterwarnings('ignore')\n",
        "\n",
        "import json\n",
        "import zipfile\n",
        "import urllib.request\n",
        "\n",
        "import numpy as np\n",
        "import pandas as pd\n",
        "import matplotlib.pyplot as plt\n",
        "import seaborn as sns\n",
        "import itertools\n",
        "\n",
        "from sklearn.model_selection import train_test_split\n",
        "from collections import Counter\n",
        "from imblearn import under_sampling, over_sampling\n",
        "from sklearn.impute import SimpleImputer\n",
        "from imblearn.over_sampling import SMOTE\n",
        "from sklearn.model_selection import KFold\n",
        "from sklearn.model_selection import GridSearchCV\n",
        "from sklearn.model_selection import RandomizedSearchCV\n",
        "from sklearn.model_selection import cross_val_score\n",
        "from imblearn.metrics import classification_report_imbalanced\n",
        "from sklearn.tree import DecisionTreeClassifier\n",
        "from sklearn.neighbors import KNeighborsClassifier as KNN\n",
        "from sklearn.compose import ColumnTransformer\n",
        "from sklearn.preprocessing import OneHotEncoder\n",
        "\n",
        "from sklearn.metrics import (precision_score, recall_score, roc_auc_score, accuracy_score,\n",
        "                             confusion_matrix, precision_recall_curve, roc_curve, brier_score_loss)\n",
        "\n",
        "import pickle"
      ],
      "execution_count": null,
      "outputs": []
    },
    {
      "cell_type": "markdown",
      "metadata": {
        "id": "OTVtTJUTlOBJ"
      },
      "source": [
        "###**Loading the  Data**"
      ]
    },
    {
      "cell_type": "code",
      "metadata": {
        "id": "r7Zn9SVRlF2U"
      },
      "source": [
        "# Load the zipfile\n",
        "\n",
        "zf = zipfile.ZipFile('transactions.zip', 'r')\n",
        "zipinfos = zf.infolist()\n",
        "data = zf.open(zipinfos[0].filename).read().splitlines()\n",
        "\n",
        "\n",
        "# Convert the json data file into a pandas dataframe\n",
        "\n",
        "data = [json.loads(rows) for rows in data]\n",
        "data = pd.DataFrame(data)"
      ],
      "execution_count": null,
      "outputs": []
    },
    {
      "cell_type": "code",
      "metadata": {
        "colab": {
          "base_uri": "https://localhost:8080/",
          "height": 240
        },
        "id": "GLyXQ-9Un7ll",
        "outputId": "22149409-c774-4c41-c38e-3fad9ca99d35"
      },
      "source": [
        "# Preview the dataset\n",
        "\n",
        "data.head()"
      ],
      "execution_count": null,
      "outputs": [
        {
          "output_type": "execute_result",
          "data": {
            "text/html": [
              "<div>\n",
              "<style scoped>\n",
              "    .dataframe tbody tr th:only-of-type {\n",
              "        vertical-align: middle;\n",
              "    }\n",
              "\n",
              "    .dataframe tbody tr th {\n",
              "        vertical-align: top;\n",
              "    }\n",
              "\n",
              "    .dataframe thead th {\n",
              "        text-align: right;\n",
              "    }\n",
              "</style>\n",
              "<table border=\"1\" class=\"dataframe\">\n",
              "  <thead>\n",
              "    <tr style=\"text-align: right;\">\n",
              "      <th></th>\n",
              "      <th>accountNumber</th>\n",
              "      <th>customerId</th>\n",
              "      <th>creditLimit</th>\n",
              "      <th>availableMoney</th>\n",
              "      <th>transactionDateTime</th>\n",
              "      <th>transactionAmount</th>\n",
              "      <th>merchantName</th>\n",
              "      <th>acqCountry</th>\n",
              "      <th>merchantCountryCode</th>\n",
              "      <th>posEntryMode</th>\n",
              "      <th>posConditionCode</th>\n",
              "      <th>merchantCategoryCode</th>\n",
              "      <th>currentExpDate</th>\n",
              "      <th>accountOpenDate</th>\n",
              "      <th>dateOfLastAddressChange</th>\n",
              "      <th>cardCVV</th>\n",
              "      <th>enteredCVV</th>\n",
              "      <th>cardLast4Digits</th>\n",
              "      <th>transactionType</th>\n",
              "      <th>echoBuffer</th>\n",
              "      <th>currentBalance</th>\n",
              "      <th>merchantCity</th>\n",
              "      <th>merchantState</th>\n",
              "      <th>merchantZip</th>\n",
              "      <th>cardPresent</th>\n",
              "      <th>posOnPremises</th>\n",
              "      <th>recurringAuthInd</th>\n",
              "      <th>expirationDateKeyInMatch</th>\n",
              "      <th>isFraud</th>\n",
              "    </tr>\n",
              "  </thead>\n",
              "  <tbody>\n",
              "    <tr>\n",
              "      <th>0</th>\n",
              "      <td>737265056</td>\n",
              "      <td>737265056</td>\n",
              "      <td>5000.0</td>\n",
              "      <td>5000.0</td>\n",
              "      <td>2016-08-13T14:27:32</td>\n",
              "      <td>98.55</td>\n",
              "      <td>Uber</td>\n",
              "      <td>US</td>\n",
              "      <td>US</td>\n",
              "      <td>02</td>\n",
              "      <td>01</td>\n",
              "      <td>rideshare</td>\n",
              "      <td>06/2023</td>\n",
              "      <td>2015-03-14</td>\n",
              "      <td>2015-03-14</td>\n",
              "      <td>414</td>\n",
              "      <td>414</td>\n",
              "      <td>1803</td>\n",
              "      <td>PURCHASE</td>\n",
              "      <td></td>\n",
              "      <td>0.0</td>\n",
              "      <td></td>\n",
              "      <td></td>\n",
              "      <td></td>\n",
              "      <td>False</td>\n",
              "      <td></td>\n",
              "      <td></td>\n",
              "      <td>False</td>\n",
              "      <td>False</td>\n",
              "    </tr>\n",
              "    <tr>\n",
              "      <th>1</th>\n",
              "      <td>737265056</td>\n",
              "      <td>737265056</td>\n",
              "      <td>5000.0</td>\n",
              "      <td>5000.0</td>\n",
              "      <td>2016-10-11T05:05:54</td>\n",
              "      <td>74.51</td>\n",
              "      <td>AMC #191138</td>\n",
              "      <td>US</td>\n",
              "      <td>US</td>\n",
              "      <td>09</td>\n",
              "      <td>01</td>\n",
              "      <td>entertainment</td>\n",
              "      <td>02/2024</td>\n",
              "      <td>2015-03-14</td>\n",
              "      <td>2015-03-14</td>\n",
              "      <td>486</td>\n",
              "      <td>486</td>\n",
              "      <td>767</td>\n",
              "      <td>PURCHASE</td>\n",
              "      <td></td>\n",
              "      <td>0.0</td>\n",
              "      <td></td>\n",
              "      <td></td>\n",
              "      <td></td>\n",
              "      <td>True</td>\n",
              "      <td></td>\n",
              "      <td></td>\n",
              "      <td>False</td>\n",
              "      <td>False</td>\n",
              "    </tr>\n",
              "    <tr>\n",
              "      <th>2</th>\n",
              "      <td>737265056</td>\n",
              "      <td>737265056</td>\n",
              "      <td>5000.0</td>\n",
              "      <td>5000.0</td>\n",
              "      <td>2016-11-08T09:18:39</td>\n",
              "      <td>7.47</td>\n",
              "      <td>Play Store</td>\n",
              "      <td>US</td>\n",
              "      <td>US</td>\n",
              "      <td>09</td>\n",
              "      <td>01</td>\n",
              "      <td>mobileapps</td>\n",
              "      <td>08/2025</td>\n",
              "      <td>2015-03-14</td>\n",
              "      <td>2015-03-14</td>\n",
              "      <td>486</td>\n",
              "      <td>486</td>\n",
              "      <td>767</td>\n",
              "      <td>PURCHASE</td>\n",
              "      <td></td>\n",
              "      <td>0.0</td>\n",
              "      <td></td>\n",
              "      <td></td>\n",
              "      <td></td>\n",
              "      <td>False</td>\n",
              "      <td></td>\n",
              "      <td></td>\n",
              "      <td>False</td>\n",
              "      <td>False</td>\n",
              "    </tr>\n",
              "    <tr>\n",
              "      <th>3</th>\n",
              "      <td>737265056</td>\n",
              "      <td>737265056</td>\n",
              "      <td>5000.0</td>\n",
              "      <td>5000.0</td>\n",
              "      <td>2016-12-10T02:14:50</td>\n",
              "      <td>7.47</td>\n",
              "      <td>Play Store</td>\n",
              "      <td>US</td>\n",
              "      <td>US</td>\n",
              "      <td>09</td>\n",
              "      <td>01</td>\n",
              "      <td>mobileapps</td>\n",
              "      <td>08/2025</td>\n",
              "      <td>2015-03-14</td>\n",
              "      <td>2015-03-14</td>\n",
              "      <td>486</td>\n",
              "      <td>486</td>\n",
              "      <td>767</td>\n",
              "      <td>PURCHASE</td>\n",
              "      <td></td>\n",
              "      <td>0.0</td>\n",
              "      <td></td>\n",
              "      <td></td>\n",
              "      <td></td>\n",
              "      <td>False</td>\n",
              "      <td></td>\n",
              "      <td></td>\n",
              "      <td>False</td>\n",
              "      <td>False</td>\n",
              "    </tr>\n",
              "    <tr>\n",
              "      <th>4</th>\n",
              "      <td>830329091</td>\n",
              "      <td>830329091</td>\n",
              "      <td>5000.0</td>\n",
              "      <td>5000.0</td>\n",
              "      <td>2016-03-24T21:04:46</td>\n",
              "      <td>71.18</td>\n",
              "      <td>Tim Hortons #947751</td>\n",
              "      <td>US</td>\n",
              "      <td>US</td>\n",
              "      <td>02</td>\n",
              "      <td>01</td>\n",
              "      <td>fastfood</td>\n",
              "      <td>10/2029</td>\n",
              "      <td>2015-08-06</td>\n",
              "      <td>2015-08-06</td>\n",
              "      <td>885</td>\n",
              "      <td>885</td>\n",
              "      <td>3143</td>\n",
              "      <td>PURCHASE</td>\n",
              "      <td></td>\n",
              "      <td>0.0</td>\n",
              "      <td></td>\n",
              "      <td></td>\n",
              "      <td></td>\n",
              "      <td>True</td>\n",
              "      <td></td>\n",
              "      <td></td>\n",
              "      <td>False</td>\n",
              "      <td>False</td>\n",
              "    </tr>\n",
              "  </tbody>\n",
              "</table>\n",
              "</div>"
            ],
            "text/plain": [
              "  accountNumber customerId  ...  expirationDateKeyInMatch  isFraud\n",
              "0     737265056  737265056  ...                     False    False\n",
              "1     737265056  737265056  ...                     False    False\n",
              "2     737265056  737265056  ...                     False    False\n",
              "3     737265056  737265056  ...                     False    False\n",
              "4     830329091  830329091  ...                     False    False\n",
              "\n",
              "[5 rows x 29 columns]"
            ]
          },
          "metadata": {
            "tags": []
          },
          "execution_count": 3
        }
      ]
    },
    {
      "cell_type": "code",
      "metadata": {
        "colab": {
          "base_uri": "https://localhost:8080/",
          "height": 240
        },
        "id": "kj--h7tssWbE",
        "outputId": "4bc68745-0602-411c-ca37-1e2ccb9fa187"
      },
      "source": [
        "# We can see that there are multiple blank cells in the dataset, so I will firstly convert these cells into \"NaN\".\n",
        "\n",
        "data = data.replace(r'^\\s*$', np.nan, regex=True)\n",
        "data.head()"
      ],
      "execution_count": null,
      "outputs": [
        {
          "output_type": "execute_result",
          "data": {
            "text/html": [
              "<div>\n",
              "<style scoped>\n",
              "    .dataframe tbody tr th:only-of-type {\n",
              "        vertical-align: middle;\n",
              "    }\n",
              "\n",
              "    .dataframe tbody tr th {\n",
              "        vertical-align: top;\n",
              "    }\n",
              "\n",
              "    .dataframe thead th {\n",
              "        text-align: right;\n",
              "    }\n",
              "</style>\n",
              "<table border=\"1\" class=\"dataframe\">\n",
              "  <thead>\n",
              "    <tr style=\"text-align: right;\">\n",
              "      <th></th>\n",
              "      <th>accountNumber</th>\n",
              "      <th>customerId</th>\n",
              "      <th>creditLimit</th>\n",
              "      <th>availableMoney</th>\n",
              "      <th>transactionDateTime</th>\n",
              "      <th>transactionAmount</th>\n",
              "      <th>merchantName</th>\n",
              "      <th>acqCountry</th>\n",
              "      <th>merchantCountryCode</th>\n",
              "      <th>posEntryMode</th>\n",
              "      <th>posConditionCode</th>\n",
              "      <th>merchantCategoryCode</th>\n",
              "      <th>currentExpDate</th>\n",
              "      <th>accountOpenDate</th>\n",
              "      <th>dateOfLastAddressChange</th>\n",
              "      <th>cardCVV</th>\n",
              "      <th>enteredCVV</th>\n",
              "      <th>cardLast4Digits</th>\n",
              "      <th>transactionType</th>\n",
              "      <th>echoBuffer</th>\n",
              "      <th>currentBalance</th>\n",
              "      <th>merchantCity</th>\n",
              "      <th>merchantState</th>\n",
              "      <th>merchantZip</th>\n",
              "      <th>cardPresent</th>\n",
              "      <th>posOnPremises</th>\n",
              "      <th>recurringAuthInd</th>\n",
              "      <th>expirationDateKeyInMatch</th>\n",
              "      <th>isFraud</th>\n",
              "    </tr>\n",
              "  </thead>\n",
              "  <tbody>\n",
              "    <tr>\n",
              "      <th>0</th>\n",
              "      <td>737265056</td>\n",
              "      <td>737265056</td>\n",
              "      <td>5000.0</td>\n",
              "      <td>5000.0</td>\n",
              "      <td>2016-08-13T14:27:32</td>\n",
              "      <td>98.55</td>\n",
              "      <td>Uber</td>\n",
              "      <td>US</td>\n",
              "      <td>US</td>\n",
              "      <td>02</td>\n",
              "      <td>01</td>\n",
              "      <td>rideshare</td>\n",
              "      <td>06/2023</td>\n",
              "      <td>2015-03-14</td>\n",
              "      <td>2015-03-14</td>\n",
              "      <td>414</td>\n",
              "      <td>414</td>\n",
              "      <td>1803</td>\n",
              "      <td>PURCHASE</td>\n",
              "      <td>NaN</td>\n",
              "      <td>0.0</td>\n",
              "      <td>NaN</td>\n",
              "      <td>NaN</td>\n",
              "      <td>NaN</td>\n",
              "      <td>False</td>\n",
              "      <td>NaN</td>\n",
              "      <td>NaN</td>\n",
              "      <td>False</td>\n",
              "      <td>False</td>\n",
              "    </tr>\n",
              "    <tr>\n",
              "      <th>1</th>\n",
              "      <td>737265056</td>\n",
              "      <td>737265056</td>\n",
              "      <td>5000.0</td>\n",
              "      <td>5000.0</td>\n",
              "      <td>2016-10-11T05:05:54</td>\n",
              "      <td>74.51</td>\n",
              "      <td>AMC #191138</td>\n",
              "      <td>US</td>\n",
              "      <td>US</td>\n",
              "      <td>09</td>\n",
              "      <td>01</td>\n",
              "      <td>entertainment</td>\n",
              "      <td>02/2024</td>\n",
              "      <td>2015-03-14</td>\n",
              "      <td>2015-03-14</td>\n",
              "      <td>486</td>\n",
              "      <td>486</td>\n",
              "      <td>767</td>\n",
              "      <td>PURCHASE</td>\n",
              "      <td>NaN</td>\n",
              "      <td>0.0</td>\n",
              "      <td>NaN</td>\n",
              "      <td>NaN</td>\n",
              "      <td>NaN</td>\n",
              "      <td>True</td>\n",
              "      <td>NaN</td>\n",
              "      <td>NaN</td>\n",
              "      <td>False</td>\n",
              "      <td>False</td>\n",
              "    </tr>\n",
              "    <tr>\n",
              "      <th>2</th>\n",
              "      <td>737265056</td>\n",
              "      <td>737265056</td>\n",
              "      <td>5000.0</td>\n",
              "      <td>5000.0</td>\n",
              "      <td>2016-11-08T09:18:39</td>\n",
              "      <td>7.47</td>\n",
              "      <td>Play Store</td>\n",
              "      <td>US</td>\n",
              "      <td>US</td>\n",
              "      <td>09</td>\n",
              "      <td>01</td>\n",
              "      <td>mobileapps</td>\n",
              "      <td>08/2025</td>\n",
              "      <td>2015-03-14</td>\n",
              "      <td>2015-03-14</td>\n",
              "      <td>486</td>\n",
              "      <td>486</td>\n",
              "      <td>767</td>\n",
              "      <td>PURCHASE</td>\n",
              "      <td>NaN</td>\n",
              "      <td>0.0</td>\n",
              "      <td>NaN</td>\n",
              "      <td>NaN</td>\n",
              "      <td>NaN</td>\n",
              "      <td>False</td>\n",
              "      <td>NaN</td>\n",
              "      <td>NaN</td>\n",
              "      <td>False</td>\n",
              "      <td>False</td>\n",
              "    </tr>\n",
              "    <tr>\n",
              "      <th>3</th>\n",
              "      <td>737265056</td>\n",
              "      <td>737265056</td>\n",
              "      <td>5000.0</td>\n",
              "      <td>5000.0</td>\n",
              "      <td>2016-12-10T02:14:50</td>\n",
              "      <td>7.47</td>\n",
              "      <td>Play Store</td>\n",
              "      <td>US</td>\n",
              "      <td>US</td>\n",
              "      <td>09</td>\n",
              "      <td>01</td>\n",
              "      <td>mobileapps</td>\n",
              "      <td>08/2025</td>\n",
              "      <td>2015-03-14</td>\n",
              "      <td>2015-03-14</td>\n",
              "      <td>486</td>\n",
              "      <td>486</td>\n",
              "      <td>767</td>\n",
              "      <td>PURCHASE</td>\n",
              "      <td>NaN</td>\n",
              "      <td>0.0</td>\n",
              "      <td>NaN</td>\n",
              "      <td>NaN</td>\n",
              "      <td>NaN</td>\n",
              "      <td>False</td>\n",
              "      <td>NaN</td>\n",
              "      <td>NaN</td>\n",
              "      <td>False</td>\n",
              "      <td>False</td>\n",
              "    </tr>\n",
              "    <tr>\n",
              "      <th>4</th>\n",
              "      <td>830329091</td>\n",
              "      <td>830329091</td>\n",
              "      <td>5000.0</td>\n",
              "      <td>5000.0</td>\n",
              "      <td>2016-03-24T21:04:46</td>\n",
              "      <td>71.18</td>\n",
              "      <td>Tim Hortons #947751</td>\n",
              "      <td>US</td>\n",
              "      <td>US</td>\n",
              "      <td>02</td>\n",
              "      <td>01</td>\n",
              "      <td>fastfood</td>\n",
              "      <td>10/2029</td>\n",
              "      <td>2015-08-06</td>\n",
              "      <td>2015-08-06</td>\n",
              "      <td>885</td>\n",
              "      <td>885</td>\n",
              "      <td>3143</td>\n",
              "      <td>PURCHASE</td>\n",
              "      <td>NaN</td>\n",
              "      <td>0.0</td>\n",
              "      <td>NaN</td>\n",
              "      <td>NaN</td>\n",
              "      <td>NaN</td>\n",
              "      <td>True</td>\n",
              "      <td>NaN</td>\n",
              "      <td>NaN</td>\n",
              "      <td>False</td>\n",
              "      <td>False</td>\n",
              "    </tr>\n",
              "  </tbody>\n",
              "</table>\n",
              "</div>"
            ],
            "text/plain": [
              "  accountNumber customerId  ...  expirationDateKeyInMatch  isFraud\n",
              "0     737265056  737265056  ...                     False    False\n",
              "1     737265056  737265056  ...                     False    False\n",
              "2     737265056  737265056  ...                     False    False\n",
              "3     737265056  737265056  ...                     False    False\n",
              "4     830329091  830329091  ...                     False    False\n",
              "\n",
              "[5 rows x 29 columns]"
            ]
          },
          "metadata": {
            "tags": []
          },
          "execution_count": 4
        }
      ]
    },
    {
      "cell_type": "code",
      "metadata": {
        "colab": {
          "base_uri": "https://localhost:8080/"
        },
        "id": "SoCfmmU_ufRh",
        "outputId": "e18fbd8c-10c8-43ba-8282-803a16db5dc6"
      },
      "source": [
        "#size of the dataset\n",
        "data.shape   "
      ],
      "execution_count": null,
      "outputs": [
        {
          "output_type": "execute_result",
          "data": {
            "text/plain": [
              "(786363, 29)"
            ]
          },
          "metadata": {
            "tags": []
          },
          "execution_count": 5
        }
      ]
    },
    {
      "cell_type": "code",
      "metadata": {
        "colab": {
          "base_uri": "https://localhost:8080/"
        },
        "id": "USi9-zE-u-zS",
        "outputId": "fb8f9b10-9436-4d52-dbf9-f259f56c1e83"
      },
      "source": [
        "# Get all column names in the dataset\n",
        "\n",
        "data.columns"
      ],
      "execution_count": null,
      "outputs": [
        {
          "output_type": "execute_result",
          "data": {
            "text/plain": [
              "Index(['accountNumber', 'customerId', 'creditLimit', 'availableMoney',\n",
              "       'transactionDateTime', 'transactionAmount', 'merchantName',\n",
              "       'acqCountry', 'merchantCountryCode', 'posEntryMode', 'posConditionCode',\n",
              "       'merchantCategoryCode', 'currentExpDate', 'accountOpenDate',\n",
              "       'dateOfLastAddressChange', 'cardCVV', 'enteredCVV', 'cardLast4Digits',\n",
              "       'transactionType', 'echoBuffer', 'currentBalance', 'merchantCity',\n",
              "       'merchantState', 'merchantZip', 'cardPresent', 'posOnPremises',\n",
              "       'recurringAuthInd', 'expirationDateKeyInMatch', 'isFraud'],\n",
              "      dtype='object')"
            ]
          },
          "metadata": {
            "tags": []
          },
          "execution_count": 6
        }
      ]
    },
    {
      "cell_type": "code",
      "metadata": {
        "colab": {
          "base_uri": "https://localhost:8080/"
        },
        "id": "znBn_kcWvKOJ",
        "outputId": "8f29b6d2-3963-4b1f-bbcf-297bf2722fe1"
      },
      "source": [
        "# Get the name and type of each column in the dataset\n",
        "\n",
        "data.info(verbose=True)\n",
        "# This dataset has 3 columns containing boolean data, 10 columns containing floating point data and 16 columns containing object data."
      ],
      "execution_count": null,
      "outputs": [
        {
          "output_type": "stream",
          "text": [
            "<class 'pandas.core.frame.DataFrame'>\n",
            "RangeIndex: 786363 entries, 0 to 786362\n",
            "Data columns (total 29 columns):\n",
            " #   Column                    Non-Null Count   Dtype  \n",
            "---  ------                    --------------   -----  \n",
            " 0   accountNumber             786363 non-null  object \n",
            " 1   customerId                786363 non-null  object \n",
            " 2   creditLimit               786363 non-null  float64\n",
            " 3   availableMoney            786363 non-null  float64\n",
            " 4   transactionDateTime       786363 non-null  object \n",
            " 5   transactionAmount         786363 non-null  float64\n",
            " 6   merchantName              786363 non-null  object \n",
            " 7   acqCountry                781801 non-null  object \n",
            " 8   merchantCountryCode       785639 non-null  object \n",
            " 9   posEntryMode              782309 non-null  object \n",
            " 10  posConditionCode          785954 non-null  object \n",
            " 11  merchantCategoryCode      786363 non-null  object \n",
            " 12  currentExpDate            786363 non-null  object \n",
            " 13  accountOpenDate           786363 non-null  object \n",
            " 14  dateOfLastAddressChange   786363 non-null  object \n",
            " 15  cardCVV                   786363 non-null  object \n",
            " 16  enteredCVV                786363 non-null  object \n",
            " 17  cardLast4Digits           786363 non-null  object \n",
            " 18  transactionType           785665 non-null  object \n",
            " 19  echoBuffer                0 non-null       float64\n",
            " 20  currentBalance            786363 non-null  float64\n",
            " 21  merchantCity              0 non-null       float64\n",
            " 22  merchantState             0 non-null       float64\n",
            " 23  merchantZip               0 non-null       float64\n",
            " 24  cardPresent               786363 non-null  bool   \n",
            " 25  posOnPremises             0 non-null       float64\n",
            " 26  recurringAuthInd          0 non-null       float64\n",
            " 27  expirationDateKeyInMatch  786363 non-null  bool   \n",
            " 28  isFraud                   786363 non-null  bool   \n",
            "dtypes: bool(3), float64(10), object(16)\n",
            "memory usage: 158.2+ MB\n"
          ],
          "name": "stdout"
        }
      ]
    },
    {
      "cell_type": "code",
      "metadata": {
        "id": "UyiOGzY4vRyY"
      },
      "source": [
        "# displaying null values and unique values in the dataset\n",
        "temp=pd.DataFrame({'null_values': data.isnull().sum(),'number_of_unique values' : data.nunique()})"
      ],
      "execution_count": null,
      "outputs": []
    },
    {
      "cell_type": "code",
      "metadata": {
        "colab": {
          "base_uri": "https://localhost:8080/",
          "height": 945
        },
        "id": "e8oKARXRvd2v",
        "outputId": "7fd9c4cf-b14a-4b85-b8b2-3637a186ce83"
      },
      "source": [
        "temp"
      ],
      "execution_count": null,
      "outputs": [
        {
          "output_type": "execute_result",
          "data": {
            "text/html": [
              "<div>\n",
              "<style scoped>\n",
              "    .dataframe tbody tr th:only-of-type {\n",
              "        vertical-align: middle;\n",
              "    }\n",
              "\n",
              "    .dataframe tbody tr th {\n",
              "        vertical-align: top;\n",
              "    }\n",
              "\n",
              "    .dataframe thead th {\n",
              "        text-align: right;\n",
              "    }\n",
              "</style>\n",
              "<table border=\"1\" class=\"dataframe\">\n",
              "  <thead>\n",
              "    <tr style=\"text-align: right;\">\n",
              "      <th></th>\n",
              "      <th>null_values</th>\n",
              "      <th>number_of_unique values</th>\n",
              "    </tr>\n",
              "  </thead>\n",
              "  <tbody>\n",
              "    <tr>\n",
              "      <th>accountNumber</th>\n",
              "      <td>0</td>\n",
              "      <td>5000</td>\n",
              "    </tr>\n",
              "    <tr>\n",
              "      <th>customerId</th>\n",
              "      <td>0</td>\n",
              "      <td>5000</td>\n",
              "    </tr>\n",
              "    <tr>\n",
              "      <th>creditLimit</th>\n",
              "      <td>0</td>\n",
              "      <td>10</td>\n",
              "    </tr>\n",
              "    <tr>\n",
              "      <th>availableMoney</th>\n",
              "      <td>0</td>\n",
              "      <td>521916</td>\n",
              "    </tr>\n",
              "    <tr>\n",
              "      <th>transactionDateTime</th>\n",
              "      <td>0</td>\n",
              "      <td>776637</td>\n",
              "    </tr>\n",
              "    <tr>\n",
              "      <th>transactionAmount</th>\n",
              "      <td>0</td>\n",
              "      <td>66038</td>\n",
              "    </tr>\n",
              "    <tr>\n",
              "      <th>merchantName</th>\n",
              "      <td>0</td>\n",
              "      <td>2490</td>\n",
              "    </tr>\n",
              "    <tr>\n",
              "      <th>acqCountry</th>\n",
              "      <td>4562</td>\n",
              "      <td>4</td>\n",
              "    </tr>\n",
              "    <tr>\n",
              "      <th>merchantCountryCode</th>\n",
              "      <td>724</td>\n",
              "      <td>4</td>\n",
              "    </tr>\n",
              "    <tr>\n",
              "      <th>posEntryMode</th>\n",
              "      <td>4054</td>\n",
              "      <td>5</td>\n",
              "    </tr>\n",
              "    <tr>\n",
              "      <th>posConditionCode</th>\n",
              "      <td>409</td>\n",
              "      <td>3</td>\n",
              "    </tr>\n",
              "    <tr>\n",
              "      <th>merchantCategoryCode</th>\n",
              "      <td>0</td>\n",
              "      <td>19</td>\n",
              "    </tr>\n",
              "    <tr>\n",
              "      <th>currentExpDate</th>\n",
              "      <td>0</td>\n",
              "      <td>165</td>\n",
              "    </tr>\n",
              "    <tr>\n",
              "      <th>accountOpenDate</th>\n",
              "      <td>0</td>\n",
              "      <td>1820</td>\n",
              "    </tr>\n",
              "    <tr>\n",
              "      <th>dateOfLastAddressChange</th>\n",
              "      <td>0</td>\n",
              "      <td>2184</td>\n",
              "    </tr>\n",
              "    <tr>\n",
              "      <th>cardCVV</th>\n",
              "      <td>0</td>\n",
              "      <td>899</td>\n",
              "    </tr>\n",
              "    <tr>\n",
              "      <th>enteredCVV</th>\n",
              "      <td>0</td>\n",
              "      <td>976</td>\n",
              "    </tr>\n",
              "    <tr>\n",
              "      <th>cardLast4Digits</th>\n",
              "      <td>0</td>\n",
              "      <td>5246</td>\n",
              "    </tr>\n",
              "    <tr>\n",
              "      <th>transactionType</th>\n",
              "      <td>698</td>\n",
              "      <td>3</td>\n",
              "    </tr>\n",
              "    <tr>\n",
              "      <th>echoBuffer</th>\n",
              "      <td>786363</td>\n",
              "      <td>0</td>\n",
              "    </tr>\n",
              "    <tr>\n",
              "      <th>currentBalance</th>\n",
              "      <td>0</td>\n",
              "      <td>487318</td>\n",
              "    </tr>\n",
              "    <tr>\n",
              "      <th>merchantCity</th>\n",
              "      <td>786363</td>\n",
              "      <td>0</td>\n",
              "    </tr>\n",
              "    <tr>\n",
              "      <th>merchantState</th>\n",
              "      <td>786363</td>\n",
              "      <td>0</td>\n",
              "    </tr>\n",
              "    <tr>\n",
              "      <th>merchantZip</th>\n",
              "      <td>786363</td>\n",
              "      <td>0</td>\n",
              "    </tr>\n",
              "    <tr>\n",
              "      <th>cardPresent</th>\n",
              "      <td>0</td>\n",
              "      <td>2</td>\n",
              "    </tr>\n",
              "    <tr>\n",
              "      <th>posOnPremises</th>\n",
              "      <td>786363</td>\n",
              "      <td>0</td>\n",
              "    </tr>\n",
              "    <tr>\n",
              "      <th>recurringAuthInd</th>\n",
              "      <td>786363</td>\n",
              "      <td>0</td>\n",
              "    </tr>\n",
              "    <tr>\n",
              "      <th>expirationDateKeyInMatch</th>\n",
              "      <td>0</td>\n",
              "      <td>2</td>\n",
              "    </tr>\n",
              "    <tr>\n",
              "      <th>isFraud</th>\n",
              "      <td>0</td>\n",
              "      <td>2</td>\n",
              "    </tr>\n",
              "  </tbody>\n",
              "</table>\n",
              "</div>"
            ],
            "text/plain": [
              "                          null_values  number_of_unique values\n",
              "accountNumber                       0                     5000\n",
              "customerId                          0                     5000\n",
              "creditLimit                         0                       10\n",
              "availableMoney                      0                   521916\n",
              "transactionDateTime                 0                   776637\n",
              "transactionAmount                   0                    66038\n",
              "merchantName                        0                     2490\n",
              "acqCountry                       4562                        4\n",
              "merchantCountryCode               724                        4\n",
              "posEntryMode                     4054                        5\n",
              "posConditionCode                  409                        3\n",
              "merchantCategoryCode                0                       19\n",
              "currentExpDate                      0                      165\n",
              "accountOpenDate                     0                     1820\n",
              "dateOfLastAddressChange             0                     2184\n",
              "cardCVV                             0                      899\n",
              "enteredCVV                          0                      976\n",
              "cardLast4Digits                     0                     5246\n",
              "transactionType                   698                        3\n",
              "echoBuffer                     786363                        0\n",
              "currentBalance                      0                   487318\n",
              "merchantCity                   786363                        0\n",
              "merchantState                  786363                        0\n",
              "merchantZip                    786363                        0\n",
              "cardPresent                         0                        2\n",
              "posOnPremises                  786363                        0\n",
              "recurringAuthInd               786363                        0\n",
              "expirationDateKeyInMatch            0                        2\n",
              "isFraud                             0                        2"
            ]
          },
          "metadata": {
            "tags": []
          },
          "execution_count": 9
        }
      ]
    },
    {
      "cell_type": "markdown",
      "metadata": {
        "id": "MdTqxJRhv5fB"
      },
      "source": [
        "**Describe Function is useful to get information about the categorical as well as the continous variable mainly about the continous variables.**"
      ]
    },
    {
      "cell_type": "code",
      "metadata": {
        "colab": {
          "base_uri": "https://localhost:8080/",
          "height": 296
        },
        "id": "7_RxtRIovlWV",
        "outputId": "9fd79716-cc24-46e3-ab7b-deaff780ef3f"
      },
      "source": [
        "data.describe()"
      ],
      "execution_count": null,
      "outputs": [
        {
          "output_type": "execute_result",
          "data": {
            "text/html": [
              "<div>\n",
              "<style scoped>\n",
              "    .dataframe tbody tr th:only-of-type {\n",
              "        vertical-align: middle;\n",
              "    }\n",
              "\n",
              "    .dataframe tbody tr th {\n",
              "        vertical-align: top;\n",
              "    }\n",
              "\n",
              "    .dataframe thead th {\n",
              "        text-align: right;\n",
              "    }\n",
              "</style>\n",
              "<table border=\"1\" class=\"dataframe\">\n",
              "  <thead>\n",
              "    <tr style=\"text-align: right;\">\n",
              "      <th></th>\n",
              "      <th>creditLimit</th>\n",
              "      <th>availableMoney</th>\n",
              "      <th>transactionAmount</th>\n",
              "      <th>echoBuffer</th>\n",
              "      <th>currentBalance</th>\n",
              "      <th>merchantCity</th>\n",
              "      <th>merchantState</th>\n",
              "      <th>merchantZip</th>\n",
              "      <th>posOnPremises</th>\n",
              "      <th>recurringAuthInd</th>\n",
              "    </tr>\n",
              "  </thead>\n",
              "  <tbody>\n",
              "    <tr>\n",
              "      <th>count</th>\n",
              "      <td>786363.000000</td>\n",
              "      <td>786363.000000</td>\n",
              "      <td>786363.000000</td>\n",
              "      <td>0.0</td>\n",
              "      <td>786363.000000</td>\n",
              "      <td>0.0</td>\n",
              "      <td>0.0</td>\n",
              "      <td>0.0</td>\n",
              "      <td>0.0</td>\n",
              "      <td>0.0</td>\n",
              "    </tr>\n",
              "    <tr>\n",
              "      <th>mean</th>\n",
              "      <td>10759.464459</td>\n",
              "      <td>6250.725369</td>\n",
              "      <td>136.985791</td>\n",
              "      <td>NaN</td>\n",
              "      <td>4508.739089</td>\n",
              "      <td>NaN</td>\n",
              "      <td>NaN</td>\n",
              "      <td>NaN</td>\n",
              "      <td>NaN</td>\n",
              "      <td>NaN</td>\n",
              "    </tr>\n",
              "    <tr>\n",
              "      <th>std</th>\n",
              "      <td>11636.174890</td>\n",
              "      <td>8880.783989</td>\n",
              "      <td>147.725569</td>\n",
              "      <td>NaN</td>\n",
              "      <td>6457.442068</td>\n",
              "      <td>NaN</td>\n",
              "      <td>NaN</td>\n",
              "      <td>NaN</td>\n",
              "      <td>NaN</td>\n",
              "      <td>NaN</td>\n",
              "    </tr>\n",
              "    <tr>\n",
              "      <th>min</th>\n",
              "      <td>250.000000</td>\n",
              "      <td>-1005.630000</td>\n",
              "      <td>0.000000</td>\n",
              "      <td>NaN</td>\n",
              "      <td>0.000000</td>\n",
              "      <td>NaN</td>\n",
              "      <td>NaN</td>\n",
              "      <td>NaN</td>\n",
              "      <td>NaN</td>\n",
              "      <td>NaN</td>\n",
              "    </tr>\n",
              "    <tr>\n",
              "      <th>25%</th>\n",
              "      <td>5000.000000</td>\n",
              "      <td>1077.420000</td>\n",
              "      <td>33.650000</td>\n",
              "      <td>NaN</td>\n",
              "      <td>689.910000</td>\n",
              "      <td>NaN</td>\n",
              "      <td>NaN</td>\n",
              "      <td>NaN</td>\n",
              "      <td>NaN</td>\n",
              "      <td>NaN</td>\n",
              "    </tr>\n",
              "    <tr>\n",
              "      <th>50%</th>\n",
              "      <td>7500.000000</td>\n",
              "      <td>3184.860000</td>\n",
              "      <td>87.900000</td>\n",
              "      <td>NaN</td>\n",
              "      <td>2451.760000</td>\n",
              "      <td>NaN</td>\n",
              "      <td>NaN</td>\n",
              "      <td>NaN</td>\n",
              "      <td>NaN</td>\n",
              "      <td>NaN</td>\n",
              "    </tr>\n",
              "    <tr>\n",
              "      <th>75%</th>\n",
              "      <td>15000.000000</td>\n",
              "      <td>7500.000000</td>\n",
              "      <td>191.480000</td>\n",
              "      <td>NaN</td>\n",
              "      <td>5291.095000</td>\n",
              "      <td>NaN</td>\n",
              "      <td>NaN</td>\n",
              "      <td>NaN</td>\n",
              "      <td>NaN</td>\n",
              "      <td>NaN</td>\n",
              "    </tr>\n",
              "    <tr>\n",
              "      <th>max</th>\n",
              "      <td>50000.000000</td>\n",
              "      <td>50000.000000</td>\n",
              "      <td>2011.540000</td>\n",
              "      <td>NaN</td>\n",
              "      <td>47498.810000</td>\n",
              "      <td>NaN</td>\n",
              "      <td>NaN</td>\n",
              "      <td>NaN</td>\n",
              "      <td>NaN</td>\n",
              "      <td>NaN</td>\n",
              "    </tr>\n",
              "  </tbody>\n",
              "</table>\n",
              "</div>"
            ],
            "text/plain": [
              "         creditLimit  availableMoney  ...  posOnPremises  recurringAuthInd\n",
              "count  786363.000000   786363.000000  ...            0.0               0.0\n",
              "mean    10759.464459     6250.725369  ...            NaN               NaN\n",
              "std     11636.174890     8880.783989  ...            NaN               NaN\n",
              "min       250.000000    -1005.630000  ...            NaN               NaN\n",
              "25%      5000.000000     1077.420000  ...            NaN               NaN\n",
              "50%      7500.000000     3184.860000  ...            NaN               NaN\n",
              "75%     15000.000000     7500.000000  ...            NaN               NaN\n",
              "max     50000.000000    50000.000000  ...            NaN               NaN\n",
              "\n",
              "[8 rows x 10 columns]"
            ]
          },
          "metadata": {
            "tags": []
          },
          "execution_count": 10
        }
      ]
    },
    {
      "cell_type": "markdown",
      "metadata": {
        "id": "B7O-P7KUwE7a"
      },
      "source": [
        "###**Make Plots**"
      ]
    },
    {
      "cell_type": "markdown",
      "metadata": {
        "id": "Isp8XDBnwR1L"
      },
      "source": [
        "**1. Plot a histogram of the processed amounts of each transaction, the transactionAmount column.**"
      ]
    },
    {
      "cell_type": "code",
      "metadata": {
        "colab": {
          "base_uri": "https://localhost:8080/",
          "height": 279
        },
        "id": "b4vAN7apv-Yq",
        "outputId": "f313a481-7e47-4de0-d9f1-6f8ae4f119ff"
      },
      "source": [
        "# I firstly get a basic histogram \n",
        "# with transaction amount on the x-axis and count of the corresponding amount on the y-axis\n",
        "\n",
        "plt.hist(data['transactionAmount'], color='red', edgecolor='black', bins=20)\n",
        "plt.xlabel('Amount of transaction', fontsize=10)\n",
        "plt.ylabel('Count', fontsize=10)\n",
        "plt.show()"
      ],
      "execution_count": null,
      "outputs": [
        {
          "output_type": "display_data",
          "data": {
            "image/png": "[encoded data removed]",
            "text/plain": [
              "<Figure size 432x288 with 1 Axes>"
            ]
          },
          "metadata": {
            "tags": [],
            "needs_background": "light"
          }
        }
      ]
    },
    {
      "cell_type": "markdown",
      "metadata": {
        "id": "aL2wPpHWwtKP"
      },
      "source": [
        "\n",
        "\n",
        "*   As we can find in the above histogram, there're some outliers. So I then detect and remove outliers and plot a basic histogram with remaining transaction values\n",
        "\n"
      ]
    },
    {
      "cell_type": "code",
      "metadata": {
        "colab": {
          "base_uri": "https://localhost:8080/",
          "height": 279
        },
        "id": "mGk7Uefmwcdp",
        "outputId": "f00a66ec-f46f-4efd-f876-0dd1312096cb"
      },
      "source": [
        "# Generally speaking, transaction values should be no less than 0, so I remove values which < 0 \n",
        "# According to the definition of outlier, I also remove values which are greater than Q3 + 1.5IQR\n",
        "q1, q3 = np.percentile(sorted(data.transactionAmount),[25,75])\n",
        "iqr = q3 - q1\n",
        "lower_bound = 0\n",
        "upper_bound = q3 + (1.5 * iqr) \n",
        "x = data.transactionAmount[data.transactionAmount.between(lower_bound, upper_bound)]\n",
        "\n",
        "plt.hist(x, color='red', edgecolor='black', bins=20)\n",
        "plt.xlabel('Amount of transaction without outliers', fontsize=10)\n",
        "plt.ylabel('Count', fontsize=10)\n",
        "plt.show()"
      ],
      "execution_count": null,
      "outputs": [
        {
          "output_type": "display_data",
          "data": {
            "image/png": "[encoded data removed]",
            "text/plain": [
              "<Figure size 432x288 with 1 Axes>"
            ]
          },
          "metadata": {
            "tags": [],
            "needs_background": "light"
          }
        }
      ]
    },
    {
      "cell_type": "code",
      "metadata": {
        "colab": {
          "base_uri": "https://localhost:8080/",
          "height": 585
        },
        "id": "maiWbNSYxVyQ",
        "outputId": "f3d4674b-04dd-485c-d43e-033ddbf276e5"
      },
      "source": [
        "# Make kernel density estimate plots of transaction amount\n",
        "\n",
        "# A KDE plot of transactions with outliers\n",
        "fig, ax = plt.subplots(nrows=2, ncols=1, figsize=(8, 8))\n",
        "sns.distplot(data['transactionAmount'], hist=True, bins=20, kde=True, ax=ax[0])\n",
        "ax[0].set_title('Histogram of transactionAmount with outliers', fontsize=10)\n",
        "\n",
        "# A KDE plot of transactions without outliers\n",
        "sns.distplot(x, hist=True, bins=20, kde=True, ax=ax[1])\n",
        "ax[1].set_title('Histogram of transaction amount without outliers', fontsize=10)\n",
        "plt.tight_layout()\n",
        "plt.show()"
      ],
      "execution_count": null,
      "outputs": [
        {
          "output_type": "display_data",
          "data": {
            "image/png": "[encoded data removed]",
            "text/plain": [
              "<Figure size 576x576 with 2 Axes>"
            ]
          },
          "metadata": {
            "tags": [],
            "needs_background": "light"
          }
        }
      ]
    },
    {
      "cell_type": "code",
      "metadata": {
        "colab": {
          "base_uri": "https://localhost:8080/",
          "height": 305
        },
        "id": "ObQmn3gnxoZT",
        "outputId": "ba71af49-75b0-42de-af00-a7066e8dde50"
      },
      "source": [
        "# Make cumulative distribution plots of transaction amount\n",
        "\n",
        "# A cumulative distribution plot of transactions with outliers\n",
        "plt.subplot(2, 1, 1)\n",
        "H,X1 = np.histogram(data['transactionAmount'], density=True, bins=20)\n",
        "dx = X1[1] - X1[0]\n",
        "F1 = np.cumsum(H)*dx\n",
        "plt.plot(X1[1:], F1, color='blue')\n",
        "plt.xlabel('Amount of transaction with outliers', fontsize=10)\n",
        "plt.ylabel('Proportion', fontsize=10)\n",
        "plt.show()\n",
        "\n",
        "# A cumulative distribution plot of transactions without outliers\n",
        "plt.subplot(2, 1, 2)\n",
        "H,X1 = np.histogram(x, density=True, bins=20)\n",
        "dx = X1[1] - X1[0]\n",
        "F1 = np.cumsum(H)*dx\n",
        "plt.plot(X1[1:], F1, color='blue')\n",
        "plt.xlabel('Amount of transaction without outliers', fontsize=10)\n",
        "plt.ylabel('Proportion', fontsize=10)\n",
        "plt.show()"
      ],
      "execution_count": null,
      "outputs": [
        {
          "output_type": "display_data",
          "data": {
            "image/png": "[encoded data removed]",
            "text/plain": [
              "<Figure size 432x288 with 1 Axes>"
            ]
          },
          "metadata": {
            "tags": [],
            "needs_background": "light"
          }
        },
        {
          "output_type": "display_data",
          "data": {
            "image/png": "[encoded data removed]",
            "text/plain": [
              "<Figure size 432x288 with 1 Axes>"
            ]
          },
          "metadata": {
            "tags": [],
            "needs_background": "light"
          }
        }
      ]
    },
    {
      "cell_type": "markdown",
      "metadata": {
        "id": "ijSp4WOk0BtF"
      },
      "source": [
        "**2. Report any structure you find and any hypotheses you have about that structure.**"
      ]
    },
    {
      "cell_type": "markdown",
      "metadata": {
        "id": "GDxS7_NH0FkN"
      },
      "source": [
        "\n",
        "\n",
        "*   From the histograms above, we can see that the distribuion of transaction amount is severely right-skewed.\n",
        "*   So I hypothesize that the amount of a valid transaction is highly possible to lie between 0 to 500. And from the cumulative distribution plots, we can say that half of transactions will be less than 100.\n",
        "\n"
      ]
    },
    {
      "cell_type": "markdown",
      "metadata": {
        "id": "qnt8fEIy0ZV1"
      },
      "source": [
        "###**Data Wrangling - Duplicate Transactions**"
      ]
    },
    {
      "cell_type": "markdown",
      "metadata": {
        "id": "nn3kQK7u56kb"
      },
      "source": [
        "####**1. Programmatically identify reversed and multi-swipe transactions.**"
      ]
    },
    {
      "cell_type": "markdown",
      "metadata": {
        "id": "rIUscOde6Cdh"
      },
      "source": [
        "#####**1.1 Reversed transactions**"
      ]
    },
    {
      "cell_type": "markdown",
      "metadata": {
        "id": "nJlGVXHa6JZD"
      },
      "source": [
        "The criteria for a reversed transaction is that a purchase should be followed by a reversal, which indicates that:\n",
        "\n"
      ]
    },
    {
      "cell_type": "markdown",
      "metadata": {
        "id": "QpxcWGMP6Kja"
      },
      "source": [
        "* 1. one purchase should have a corrsponding one reversal\n",
        "* 2. the transactionDateTime of the purchase should be earlier than the reversal\n",
        "\n",
        "With these 2 criteria, to filter all reversed transactions, basically what I did are:\n",
        "\n",
        "* 1. selecting duplicated rows based on 'accountNumber', 'customerId', 'transactionAmount', 'merchantName' to find transactions of same amount within the same account from the same merchant, which are possible to be reversed transactions\n",
        "* 2. creating 2 seperate datasets pur_tran and rev_tran from the duplicated dataset, one containing all purchasing records from the duplicated dataset and the other containing all reversal records from the duplicated dataset\n",
        "* 3. inner joining 2 datasets by 'accountNumber', 'customerId', 'transactionAmount', 'merchantName', which means that for every record in the purchasing dataset, if there's a record in the reversal dataset which has the same values in 'accountNumber', 'customerId', 'transactionAmount', 'merchantName', this 2 records will be merged into a new dataset. In the new dataset, features with suffix_x refers to the features from the original purchasing data, features with suffix_y refers to variables from the reversal data\n",
        "* 4. selecting rows which its purchasing transaction DateTime is earlier than its reversal transaction DateTime"
      ]
    },
    {
      "cell_type": "code",
      "metadata": {
        "id": "3RmPJBKDyCFy"
      },
      "source": [
        "# Convert time columns to standard format\n",
        "\n",
        "data['transactionDateTime'] = pd.to_datetime(data['transactionDateTime'], infer_datetime_format=True)\n",
        "data['currentExpDate'] = pd.to_datetime(data['currentExpDate'], infer_datetime_format=True)\n",
        "data['accountOpenDate'] = pd.to_datetime(data['accountOpenDate'], infer_datetime_format=True)\n",
        "data['dateOfLastAddressChange'] = pd.to_datetime(data['dateOfLastAddressChange'], infer_datetime_format=True)"
      ],
      "execution_count": null,
      "outputs": []
    },
    {
      "cell_type": "code",
      "metadata": {
        "id": "JKasaDXn63pp"
      },
      "source": [
        "# Select duplicated rows based on 'accountNumber', 'customerId', 'transactionAmount', 'merchantName' \n",
        "\n",
        "duplicated = data[data.duplicated(['accountNumber', 'customerId', 'transactionAmount', 'merchantName'], keep=False)]"
      ],
      "execution_count": null,
      "outputs": []
    },
    {
      "cell_type": "code",
      "metadata": {
        "id": "rg9HBjd47OWP"
      },
      "source": [
        "# Get all records whose transaction type is purchase from the duplicated data\n",
        "\n",
        "pur_tran = duplicated[duplicated.transactionType == 'PURCHASE']"
      ],
      "execution_count": null,
      "outputs": []
    },
    {
      "cell_type": "code",
      "metadata": {
        "id": "13n5Hk717WQZ"
      },
      "source": [
        "# Get all records whose transaction type is reversal from the duplicated data\n",
        "\n",
        "rev_tran = duplicated[duplicated.transactionType == 'REVERSAL']"
      ],
      "execution_count": null,
      "outputs": []
    },
    {
      "cell_type": "code",
      "metadata": {
        "colab": {
          "base_uri": "https://localhost:8080/",
          "height": 274
        },
        "id": "LpAcQCo97Y9g",
        "outputId": "a33b1aca-efd8-49af-b53e-761a8ab28423"
      },
      "source": [
        "# Inner joined the 2 datasets by 'accountNumber', 'customerId', 'transactionAmount', 'merchantName'\n",
        "\n",
        "reversed_trans = pd.merge(pur_tran, rev_tran, on=['accountNumber', 'customerId', 'transactionAmount', 'merchantName'], how='inner')\n",
        "reversed_trans.head()"
      ],
      "execution_count": null,
      "outputs": [
        {
          "output_type": "execute_result",
          "data": {
            "text/html": [
              "<div>\n",
              "<style scoped>\n",
              "    .dataframe tbody tr th:only-of-type {\n",
              "        vertical-align: middle;\n",
              "    }\n",
              "\n",
              "    .dataframe tbody tr th {\n",
              "        vertical-align: top;\n",
              "    }\n",
              "\n",
              "    .dataframe thead th {\n",
              "        text-align: right;\n",
              "    }\n",
              "</style>\n",
              "<table border=\"1\" class=\"dataframe\">\n",
              "  <thead>\n",
              "    <tr style=\"text-align: right;\">\n",
              "      <th></th>\n",
              "      <th>accountNumber</th>\n",
              "      <th>customerId</th>\n",
              "      <th>creditLimit_x</th>\n",
              "      <th>availableMoney_x</th>\n",
              "      <th>transactionDateTime_x</th>\n",
              "      <th>transactionAmount</th>\n",
              "      <th>merchantName</th>\n",
              "      <th>acqCountry_x</th>\n",
              "      <th>merchantCountryCode_x</th>\n",
              "      <th>posEntryMode_x</th>\n",
              "      <th>posConditionCode_x</th>\n",
              "      <th>merchantCategoryCode_x</th>\n",
              "      <th>currentExpDate_x</th>\n",
              "      <th>accountOpenDate_x</th>\n",
              "      <th>dateOfLastAddressChange_x</th>\n",
              "      <th>cardCVV_x</th>\n",
              "      <th>enteredCVV_x</th>\n",
              "      <th>cardLast4Digits_x</th>\n",
              "      <th>transactionType_x</th>\n",
              "      <th>echoBuffer_x</th>\n",
              "      <th>currentBalance_x</th>\n",
              "      <th>merchantCity_x</th>\n",
              "      <th>merchantState_x</th>\n",
              "      <th>merchantZip_x</th>\n",
              "      <th>cardPresent_x</th>\n",
              "      <th>posOnPremises_x</th>\n",
              "      <th>recurringAuthInd_x</th>\n",
              "      <th>expirationDateKeyInMatch_x</th>\n",
              "      <th>isFraud_x</th>\n",
              "      <th>creditLimit_y</th>\n",
              "      <th>availableMoney_y</th>\n",
              "      <th>transactionDateTime_y</th>\n",
              "      <th>acqCountry_y</th>\n",
              "      <th>merchantCountryCode_y</th>\n",
              "      <th>posEntryMode_y</th>\n",
              "      <th>posConditionCode_y</th>\n",
              "      <th>merchantCategoryCode_y</th>\n",
              "      <th>currentExpDate_y</th>\n",
              "      <th>accountOpenDate_y</th>\n",
              "      <th>dateOfLastAddressChange_y</th>\n",
              "      <th>cardCVV_y</th>\n",
              "      <th>enteredCVV_y</th>\n",
              "      <th>cardLast4Digits_y</th>\n",
              "      <th>transactionType_y</th>\n",
              "      <th>echoBuffer_y</th>\n",
              "      <th>currentBalance_y</th>\n",
              "      <th>merchantCity_y</th>\n",
              "      <th>merchantState_y</th>\n",
              "      <th>merchantZip_y</th>\n",
              "      <th>cardPresent_y</th>\n",
              "      <th>posOnPremises_y</th>\n",
              "      <th>recurringAuthInd_y</th>\n",
              "      <th>expirationDateKeyInMatch_y</th>\n",
              "      <th>isFraud_y</th>\n",
              "    </tr>\n",
              "  </thead>\n",
              "  <tbody>\n",
              "    <tr>\n",
              "      <th>0</th>\n",
              "      <td>574788567</td>\n",
              "      <td>574788567</td>\n",
              "      <td>2500.0</td>\n",
              "      <td>2416.11</td>\n",
              "      <td>2016-05-24 01:35:33</td>\n",
              "      <td>215.13</td>\n",
              "      <td>Convenient Tire</td>\n",
              "      <td>US</td>\n",
              "      <td>US</td>\n",
              "      <td>09</td>\n",
              "      <td>01</td>\n",
              "      <td>auto</td>\n",
              "      <td>2021-10-01</td>\n",
              "      <td>2015-10-13</td>\n",
              "      <td>2015-10-13</td>\n",
              "      <td>206</td>\n",
              "      <td>206</td>\n",
              "      <td>8522</td>\n",
              "      <td>PURCHASE</td>\n",
              "      <td>NaN</td>\n",
              "      <td>83.89</td>\n",
              "      <td>NaN</td>\n",
              "      <td>NaN</td>\n",
              "      <td>NaN</td>\n",
              "      <td>True</td>\n",
              "      <td>NaN</td>\n",
              "      <td>NaN</td>\n",
              "      <td>False</td>\n",
              "      <td>False</td>\n",
              "      <td>2500.0</td>\n",
              "      <td>2200.98</td>\n",
              "      <td>2016-05-24 01:38:03</td>\n",
              "      <td>US</td>\n",
              "      <td>US</td>\n",
              "      <td>09</td>\n",
              "      <td>01</td>\n",
              "      <td>auto</td>\n",
              "      <td>2021-10-01</td>\n",
              "      <td>2015-10-13</td>\n",
              "      <td>2015-10-13</td>\n",
              "      <td>206</td>\n",
              "      <td>206</td>\n",
              "      <td>8522</td>\n",
              "      <td>REVERSAL</td>\n",
              "      <td>NaN</td>\n",
              "      <td>299.02</td>\n",
              "      <td>NaN</td>\n",
              "      <td>NaN</td>\n",
              "      <td>NaN</td>\n",
              "      <td>True</td>\n",
              "      <td>NaN</td>\n",
              "      <td>NaN</td>\n",
              "      <td>False</td>\n",
              "      <td>False</td>\n",
              "    </tr>\n",
              "    <tr>\n",
              "      <th>1</th>\n",
              "      <td>924729945</td>\n",
              "      <td>924729945</td>\n",
              "      <td>50000.0</td>\n",
              "      <td>50000.00</td>\n",
              "      <td>2016-10-04 04:20:04</td>\n",
              "      <td>168.57</td>\n",
              "      <td>discount.com</td>\n",
              "      <td>US</td>\n",
              "      <td>US</td>\n",
              "      <td>05</td>\n",
              "      <td>01</td>\n",
              "      <td>online_retail</td>\n",
              "      <td>2024-11-01</td>\n",
              "      <td>2014-07-25</td>\n",
              "      <td>2014-07-25</td>\n",
              "      <td>205</td>\n",
              "      <td>265</td>\n",
              "      <td>9459</td>\n",
              "      <td>PURCHASE</td>\n",
              "      <td>NaN</td>\n",
              "      <td>0.00</td>\n",
              "      <td>NaN</td>\n",
              "      <td>NaN</td>\n",
              "      <td>NaN</td>\n",
              "      <td>False</td>\n",
              "      <td>NaN</td>\n",
              "      <td>NaN</td>\n",
              "      <td>False</td>\n",
              "      <td>False</td>\n",
              "      <td>50000.0</td>\n",
              "      <td>49831.43</td>\n",
              "      <td>2016-10-19 14:01:45</td>\n",
              "      <td>US</td>\n",
              "      <td>US</td>\n",
              "      <td>05</td>\n",
              "      <td>01</td>\n",
              "      <td>online_retail</td>\n",
              "      <td>2024-11-01</td>\n",
              "      <td>2014-07-25</td>\n",
              "      <td>2014-07-25</td>\n",
              "      <td>205</td>\n",
              "      <td>265</td>\n",
              "      <td>9459</td>\n",
              "      <td>REVERSAL</td>\n",
              "      <td>NaN</td>\n",
              "      <td>168.57</td>\n",
              "      <td>NaN</td>\n",
              "      <td>NaN</td>\n",
              "      <td>NaN</td>\n",
              "      <td>False</td>\n",
              "      <td>NaN</td>\n",
              "      <td>NaN</td>\n",
              "      <td>False</td>\n",
              "      <td>False</td>\n",
              "    </tr>\n",
              "    <tr>\n",
              "      <th>2</th>\n",
              "      <td>984504651</td>\n",
              "      <td>984504651</td>\n",
              "      <td>50000.0</td>\n",
              "      <td>49138.85</td>\n",
              "      <td>2016-01-06 04:08:06</td>\n",
              "      <td>83.64</td>\n",
              "      <td>1st Sandwitch Bar #801388</td>\n",
              "      <td>US</td>\n",
              "      <td>US</td>\n",
              "      <td>09</td>\n",
              "      <td>01</td>\n",
              "      <td>food</td>\n",
              "      <td>2025-11-01</td>\n",
              "      <td>2015-07-27</td>\n",
              "      <td>2015-07-27</td>\n",
              "      <td>640</td>\n",
              "      <td>640</td>\n",
              "      <td>8332</td>\n",
              "      <td>PURCHASE</td>\n",
              "      <td>NaN</td>\n",
              "      <td>861.15</td>\n",
              "      <td>NaN</td>\n",
              "      <td>NaN</td>\n",
              "      <td>NaN</td>\n",
              "      <td>True</td>\n",
              "      <td>NaN</td>\n",
              "      <td>NaN</td>\n",
              "      <td>False</td>\n",
              "      <td>False</td>\n",
              "      <td>50000.0</td>\n",
              "      <td>38090.70</td>\n",
              "      <td>2016-02-04 00:14:42</td>\n",
              "      <td>US</td>\n",
              "      <td>US</td>\n",
              "      <td>09</td>\n",
              "      <td>01</td>\n",
              "      <td>food</td>\n",
              "      <td>2025-11-01</td>\n",
              "      <td>2015-07-27</td>\n",
              "      <td>2015-07-27</td>\n",
              "      <td>640</td>\n",
              "      <td>640</td>\n",
              "      <td>8332</td>\n",
              "      <td>REVERSAL</td>\n",
              "      <td>NaN</td>\n",
              "      <td>11909.30</td>\n",
              "      <td>NaN</td>\n",
              "      <td>NaN</td>\n",
              "      <td>NaN</td>\n",
              "      <td>True</td>\n",
              "      <td>NaN</td>\n",
              "      <td>NaN</td>\n",
              "      <td>False</td>\n",
              "      <td>False</td>\n",
              "    </tr>\n",
              "    <tr>\n",
              "      <th>3</th>\n",
              "      <td>984504651</td>\n",
              "      <td>984504651</td>\n",
              "      <td>50000.0</td>\n",
              "      <td>46818.15</td>\n",
              "      <td>2016-01-16 09:52:30</td>\n",
              "      <td>450.74</td>\n",
              "      <td>Planet Fitness #849960</td>\n",
              "      <td>US</td>\n",
              "      <td>US</td>\n",
              "      <td>05</td>\n",
              "      <td>01</td>\n",
              "      <td>health</td>\n",
              "      <td>2028-08-01</td>\n",
              "      <td>2015-07-27</td>\n",
              "      <td>2015-07-27</td>\n",
              "      <td>640</td>\n",
              "      <td>640</td>\n",
              "      <td>8332</td>\n",
              "      <td>PURCHASE</td>\n",
              "      <td>NaN</td>\n",
              "      <td>3181.85</td>\n",
              "      <td>NaN</td>\n",
              "      <td>NaN</td>\n",
              "      <td>NaN</td>\n",
              "      <td>False</td>\n",
              "      <td>NaN</td>\n",
              "      <td>NaN</td>\n",
              "      <td>False</td>\n",
              "      <td>False</td>\n",
              "      <td>50000.0</td>\n",
              "      <td>46367.41</td>\n",
              "      <td>2016-01-16 09:53:15</td>\n",
              "      <td>US</td>\n",
              "      <td>US</td>\n",
              "      <td>05</td>\n",
              "      <td>01</td>\n",
              "      <td>health</td>\n",
              "      <td>2028-08-01</td>\n",
              "      <td>2015-07-27</td>\n",
              "      <td>2015-07-27</td>\n",
              "      <td>640</td>\n",
              "      <td>640</td>\n",
              "      <td>8332</td>\n",
              "      <td>REVERSAL</td>\n",
              "      <td>NaN</td>\n",
              "      <td>3632.59</td>\n",
              "      <td>NaN</td>\n",
              "      <td>NaN</td>\n",
              "      <td>NaN</td>\n",
              "      <td>False</td>\n",
              "      <td>NaN</td>\n",
              "      <td>NaN</td>\n",
              "      <td>False</td>\n",
              "      <td>False</td>\n",
              "    </tr>\n",
              "    <tr>\n",
              "      <th>4</th>\n",
              "      <td>984504651</td>\n",
              "      <td>984504651</td>\n",
              "      <td>50000.0</td>\n",
              "      <td>46341.05</td>\n",
              "      <td>2016-01-17 08:13:08</td>\n",
              "      <td>81.73</td>\n",
              "      <td>AMC #724446</td>\n",
              "      <td>US</td>\n",
              "      <td>US</td>\n",
              "      <td>09</td>\n",
              "      <td>01</td>\n",
              "      <td>entertainment</td>\n",
              "      <td>2031-12-01</td>\n",
              "      <td>2015-07-27</td>\n",
              "      <td>2015-07-27</td>\n",
              "      <td>640</td>\n",
              "      <td>640</td>\n",
              "      <td>8332</td>\n",
              "      <td>PURCHASE</td>\n",
              "      <td>NaN</td>\n",
              "      <td>3658.95</td>\n",
              "      <td>NaN</td>\n",
              "      <td>NaN</td>\n",
              "      <td>NaN</td>\n",
              "      <td>True</td>\n",
              "      <td>NaN</td>\n",
              "      <td>NaN</td>\n",
              "      <td>False</td>\n",
              "      <td>False</td>\n",
              "      <td>50000.0</td>\n",
              "      <td>41909.30</td>\n",
              "      <td>2016-01-25 20:39:15</td>\n",
              "      <td>US</td>\n",
              "      <td>US</td>\n",
              "      <td>09</td>\n",
              "      <td>01</td>\n",
              "      <td>entertainment</td>\n",
              "      <td>2031-12-01</td>\n",
              "      <td>2015-07-27</td>\n",
              "      <td>2015-07-27</td>\n",
              "      <td>640</td>\n",
              "      <td>640</td>\n",
              "      <td>8332</td>\n",
              "      <td>REVERSAL</td>\n",
              "      <td>NaN</td>\n",
              "      <td>8090.70</td>\n",
              "      <td>NaN</td>\n",
              "      <td>NaN</td>\n",
              "      <td>NaN</td>\n",
              "      <td>True</td>\n",
              "      <td>NaN</td>\n",
              "      <td>NaN</td>\n",
              "      <td>False</td>\n",
              "      <td>False</td>\n",
              "    </tr>\n",
              "  </tbody>\n",
              "</table>\n",
              "</div>"
            ],
            "text/plain": [
              "  accountNumber customerId  ...  expirationDateKeyInMatch_y  isFraud_y\n",
              "0     574788567  574788567  ...                       False      False\n",
              "1     924729945  924729945  ...                       False      False\n",
              "2     984504651  984504651  ...                       False      False\n",
              "3     984504651  984504651  ...                       False      False\n",
              "4     984504651  984504651  ...                       False      False\n",
              "\n",
              "[5 rows x 54 columns]"
            ]
          },
          "metadata": {
            "tags": []
          },
          "execution_count": 19
        }
      ]
    },
    {
      "cell_type": "code",
      "metadata": {
        "id": "haSvzK6v8Yo3"
      },
      "source": [
        "# Select rows which its purchasing transaction DateTime is earlier than its reversal transaction DateTime.\n",
        "\n",
        "reversed_trans = reversed_trans[reversed_trans.transactionDateTime_x < reversed_trans.transactionDateTime_y]"
      ],
      "execution_count": null,
      "outputs": []
    },
    {
      "cell_type": "code",
      "metadata": {
        "colab": {
          "base_uri": "https://localhost:8080/",
          "height": 204
        },
        "id": "F6F2KuGx9kCT",
        "outputId": "3f206693-7e2c-41e7-b3e0-26e0d0057c2e"
      },
      "source": [
        "#The final reversal transaction data\n",
        "\n",
        "reversed_trans[['accountNumber', 'customerId', 'transactionAmount', 'merchantName', 'transactionDateTime_x', 'transactionDateTime_y',\n",
        "                'transactionType_x', 'transactionType_y']].head()"
      ],
      "execution_count": null,
      "outputs": [
        {
          "output_type": "execute_result",
          "data": {
            "text/html": [
              "<div>\n",
              "<style scoped>\n",
              "    .dataframe tbody tr th:only-of-type {\n",
              "        vertical-align: middle;\n",
              "    }\n",
              "\n",
              "    .dataframe tbody tr th {\n",
              "        vertical-align: top;\n",
              "    }\n",
              "\n",
              "    .dataframe thead th {\n",
              "        text-align: right;\n",
              "    }\n",
              "</style>\n",
              "<table border=\"1\" class=\"dataframe\">\n",
              "  <thead>\n",
              "    <tr style=\"text-align: right;\">\n",
              "      <th></th>\n",
              "      <th>accountNumber</th>\n",
              "      <th>customerId</th>\n",
              "      <th>transactionAmount</th>\n",
              "      <th>merchantName</th>\n",
              "      <th>transactionDateTime_x</th>\n",
              "      <th>transactionDateTime_y</th>\n",
              "      <th>transactionType_x</th>\n",
              "      <th>transactionType_y</th>\n",
              "    </tr>\n",
              "  </thead>\n",
              "  <tbody>\n",
              "    <tr>\n",
              "      <th>0</th>\n",
              "      <td>574788567</td>\n",
              "      <td>574788567</td>\n",
              "      <td>215.13</td>\n",
              "      <td>Convenient Tire</td>\n",
              "      <td>2016-05-24 01:35:33</td>\n",
              "      <td>2016-05-24 01:38:03</td>\n",
              "      <td>PURCHASE</td>\n",
              "      <td>REVERSAL</td>\n",
              "    </tr>\n",
              "    <tr>\n",
              "      <th>1</th>\n",
              "      <td>924729945</td>\n",
              "      <td>924729945</td>\n",
              "      <td>168.57</td>\n",
              "      <td>discount.com</td>\n",
              "      <td>2016-10-04 04:20:04</td>\n",
              "      <td>2016-10-19 14:01:45</td>\n",
              "      <td>PURCHASE</td>\n",
              "      <td>REVERSAL</td>\n",
              "    </tr>\n",
              "    <tr>\n",
              "      <th>2</th>\n",
              "      <td>984504651</td>\n",
              "      <td>984504651</td>\n",
              "      <td>83.64</td>\n",
              "      <td>1st Sandwitch Bar #801388</td>\n",
              "      <td>2016-01-06 04:08:06</td>\n",
              "      <td>2016-02-04 00:14:42</td>\n",
              "      <td>PURCHASE</td>\n",
              "      <td>REVERSAL</td>\n",
              "    </tr>\n",
              "    <tr>\n",
              "      <th>3</th>\n",
              "      <td>984504651</td>\n",
              "      <td>984504651</td>\n",
              "      <td>450.74</td>\n",
              "      <td>Planet Fitness #849960</td>\n",
              "      <td>2016-01-16 09:52:30</td>\n",
              "      <td>2016-01-16 09:53:15</td>\n",
              "      <td>PURCHASE</td>\n",
              "      <td>REVERSAL</td>\n",
              "    </tr>\n",
              "    <tr>\n",
              "      <th>4</th>\n",
              "      <td>984504651</td>\n",
              "      <td>984504651</td>\n",
              "      <td>81.73</td>\n",
              "      <td>AMC #724446</td>\n",
              "      <td>2016-01-17 08:13:08</td>\n",
              "      <td>2016-01-25 20:39:15</td>\n",
              "      <td>PURCHASE</td>\n",
              "      <td>REVERSAL</td>\n",
              "    </tr>\n",
              "  </tbody>\n",
              "</table>\n",
              "</div>"
            ],
            "text/plain": [
              "  accountNumber customerId  ...  transactionType_x transactionType_y\n",
              "0     574788567  574788567  ...           PURCHASE          REVERSAL\n",
              "1     924729945  924729945  ...           PURCHASE          REVERSAL\n",
              "2     984504651  984504651  ...           PURCHASE          REVERSAL\n",
              "3     984504651  984504651  ...           PURCHASE          REVERSAL\n",
              "4     984504651  984504651  ...           PURCHASE          REVERSAL\n",
              "\n",
              "[5 rows x 8 columns]"
            ]
          },
          "metadata": {
            "tags": []
          },
          "execution_count": 21
        }
      ]
    },
    {
      "cell_type": "markdown",
      "metadata": {
        "id": "juEwUhYl-Z3o"
      },
      "source": [
        "####**1.2 Multi-swipe transactions**"
      ]
    },
    {
      "cell_type": "markdown",
      "metadata": {
        "id": "EJcGDe2MAaoN"
      },
      "source": [
        "The criteria for a multi_swipe transaction is that a vendor accidentally charges a customer's card multiple times within a short time span, which indicates that:\n",
        "\n",
        "* 1. there should be multiple purchases with the same transaction amount\n",
        "* 2. the transaction DateTime of different purchases should be within a short time span. I assume they are within 1 hour\n",
        "\n",
        "With these 2 criteria, to filter all reversed transactions, I will:\n",
        "\n",
        "* 1. select duplicated rows based on 'accountNumber', 'customerId', 'transactionAmount', 'merchantName' and 'transactionType' to find transactions of same amount within the same account from the same merchant, which are possible to be multi-swipe transaction\n",
        "* 2. select records whose transaction type is purchasing\n",
        "* 3. group purchasing dataset and apply a function to calculate the time span between transactions with the same amount from the merchant\n",
        "* 4. select rows which transaction time span is less than 1 hour"
      ]
    },
    {
      "cell_type": "code",
      "metadata": {
        "id": "wghkB_Ti-U7b"
      },
      "source": [
        "# Select duplicated rows based on 'accountNumber', 'customerId', 'transactionAmount', 'merchantName', 'transactionType'\n",
        "\n",
        "duplicated = data[data.duplicated(['accountNumber', 'customerId', 'transactionAmount', 'merchantName', 'transactionType'], \n",
        "                                  keep=False)]"
      ],
      "execution_count": null,
      "outputs": []
    },
    {
      "cell_type": "code",
      "metadata": {
        "colab": {
          "base_uri": "https://localhost:8080/",
          "height": 224
        },
        "id": "hprhlNbqBWVU",
        "outputId": "dd323f6c-f8dc-47a4-ef0a-c9647891c386"
      },
      "source": [
        "# Select purchasing transactions and sort the purchasing data by transactionDateTime\n",
        "\n",
        "purchase = duplicated[duplicated.transactionType == 'PURCHASE']\n",
        "purchase.sort_values(['accountNumber', 'customerId', 'merchantName', 'transactionDateTime'])\n",
        "purchase.head()"
      ],
      "execution_count": null,
      "outputs": [
        {
          "output_type": "execute_result",
          "data": {
            "text/html": [
              "<div>\n",
              "<style scoped>\n",
              "    .dataframe tbody tr th:only-of-type {\n",
              "        vertical-align: middle;\n",
              "    }\n",
              "\n",
              "    .dataframe tbody tr th {\n",
              "        vertical-align: top;\n",
              "    }\n",
              "\n",
              "    .dataframe thead th {\n",
              "        text-align: right;\n",
              "    }\n",
              "</style>\n",
              "<table border=\"1\" class=\"dataframe\">\n",
              "  <thead>\n",
              "    <tr style=\"text-align: right;\">\n",
              "      <th></th>\n",
              "      <th>accountNumber</th>\n",
              "      <th>customerId</th>\n",
              "      <th>creditLimit</th>\n",
              "      <th>availableMoney</th>\n",
              "      <th>transactionDateTime</th>\n",
              "      <th>transactionAmount</th>\n",
              "      <th>merchantName</th>\n",
              "      <th>acqCountry</th>\n",
              "      <th>merchantCountryCode</th>\n",
              "      <th>posEntryMode</th>\n",
              "      <th>posConditionCode</th>\n",
              "      <th>merchantCategoryCode</th>\n",
              "      <th>currentExpDate</th>\n",
              "      <th>accountOpenDate</th>\n",
              "      <th>dateOfLastAddressChange</th>\n",
              "      <th>cardCVV</th>\n",
              "      <th>enteredCVV</th>\n",
              "      <th>cardLast4Digits</th>\n",
              "      <th>transactionType</th>\n",
              "      <th>echoBuffer</th>\n",
              "      <th>currentBalance</th>\n",
              "      <th>merchantCity</th>\n",
              "      <th>merchantState</th>\n",
              "      <th>merchantZip</th>\n",
              "      <th>cardPresent</th>\n",
              "      <th>posOnPremises</th>\n",
              "      <th>recurringAuthInd</th>\n",
              "      <th>expirationDateKeyInMatch</th>\n",
              "      <th>isFraud</th>\n",
              "    </tr>\n",
              "  </thead>\n",
              "  <tbody>\n",
              "    <tr>\n",
              "      <th>2</th>\n",
              "      <td>737265056</td>\n",
              "      <td>737265056</td>\n",
              "      <td>5000.0</td>\n",
              "      <td>5000.00</td>\n",
              "      <td>2016-11-08 09:18:39</td>\n",
              "      <td>7.47</td>\n",
              "      <td>Play Store</td>\n",
              "      <td>US</td>\n",
              "      <td>US</td>\n",
              "      <td>09</td>\n",
              "      <td>01</td>\n",
              "      <td>mobileapps</td>\n",
              "      <td>2025-08-01</td>\n",
              "      <td>2015-03-14</td>\n",
              "      <td>2015-03-14</td>\n",
              "      <td>486</td>\n",
              "      <td>486</td>\n",
              "      <td>767</td>\n",
              "      <td>PURCHASE</td>\n",
              "      <td>NaN</td>\n",
              "      <td>0.00</td>\n",
              "      <td>NaN</td>\n",
              "      <td>NaN</td>\n",
              "      <td>NaN</td>\n",
              "      <td>False</td>\n",
              "      <td>NaN</td>\n",
              "      <td>NaN</td>\n",
              "      <td>False</td>\n",
              "      <td>False</td>\n",
              "    </tr>\n",
              "    <tr>\n",
              "      <th>3</th>\n",
              "      <td>737265056</td>\n",
              "      <td>737265056</td>\n",
              "      <td>5000.0</td>\n",
              "      <td>5000.00</td>\n",
              "      <td>2016-12-10 02:14:50</td>\n",
              "      <td>7.47</td>\n",
              "      <td>Play Store</td>\n",
              "      <td>US</td>\n",
              "      <td>US</td>\n",
              "      <td>09</td>\n",
              "      <td>01</td>\n",
              "      <td>mobileapps</td>\n",
              "      <td>2025-08-01</td>\n",
              "      <td>2015-03-14</td>\n",
              "      <td>2015-03-14</td>\n",
              "      <td>486</td>\n",
              "      <td>486</td>\n",
              "      <td>767</td>\n",
              "      <td>PURCHASE</td>\n",
              "      <td>NaN</td>\n",
              "      <td>0.00</td>\n",
              "      <td>NaN</td>\n",
              "      <td>NaN</td>\n",
              "      <td>NaN</td>\n",
              "      <td>False</td>\n",
              "      <td>NaN</td>\n",
              "      <td>NaN</td>\n",
              "      <td>False</td>\n",
              "      <td>False</td>\n",
              "    </tr>\n",
              "    <tr>\n",
              "      <th>11</th>\n",
              "      <td>830329091</td>\n",
              "      <td>830329091</td>\n",
              "      <td>5000.0</td>\n",
              "      <td>5000.00</td>\n",
              "      <td>2016-12-07 16:34:04</td>\n",
              "      <td>40.75</td>\n",
              "      <td>GreenCook</td>\n",
              "      <td>US</td>\n",
              "      <td>US</td>\n",
              "      <td>09</td>\n",
              "      <td>01</td>\n",
              "      <td>food_delivery</td>\n",
              "      <td>2024-08-01</td>\n",
              "      <td>2015-08-06</td>\n",
              "      <td>2015-08-06</td>\n",
              "      <td>885</td>\n",
              "      <td>885</td>\n",
              "      <td>3143</td>\n",
              "      <td>PURCHASE</td>\n",
              "      <td>NaN</td>\n",
              "      <td>0.00</td>\n",
              "      <td>NaN</td>\n",
              "      <td>NaN</td>\n",
              "      <td>NaN</td>\n",
              "      <td>False</td>\n",
              "      <td>NaN</td>\n",
              "      <td>NaN</td>\n",
              "      <td>False</td>\n",
              "      <td>False</td>\n",
              "    </tr>\n",
              "    <tr>\n",
              "      <th>12</th>\n",
              "      <td>830329091</td>\n",
              "      <td>830329091</td>\n",
              "      <td>5000.0</td>\n",
              "      <td>4959.25</td>\n",
              "      <td>2016-12-14 10:00:35</td>\n",
              "      <td>40.75</td>\n",
              "      <td>GreenCook</td>\n",
              "      <td>US</td>\n",
              "      <td>US</td>\n",
              "      <td>09</td>\n",
              "      <td>01</td>\n",
              "      <td>food_delivery</td>\n",
              "      <td>2024-08-01</td>\n",
              "      <td>2015-08-06</td>\n",
              "      <td>2015-08-06</td>\n",
              "      <td>885</td>\n",
              "      <td>885</td>\n",
              "      <td>3143</td>\n",
              "      <td>PURCHASE</td>\n",
              "      <td>NaN</td>\n",
              "      <td>40.75</td>\n",
              "      <td>NaN</td>\n",
              "      <td>NaN</td>\n",
              "      <td>NaN</td>\n",
              "      <td>False</td>\n",
              "      <td>NaN</td>\n",
              "      <td>NaN</td>\n",
              "      <td>False</td>\n",
              "      <td>False</td>\n",
              "    </tr>\n",
              "    <tr>\n",
              "      <th>13</th>\n",
              "      <td>830329091</td>\n",
              "      <td>830329091</td>\n",
              "      <td>5000.0</td>\n",
              "      <td>4918.50</td>\n",
              "      <td>2016-12-20 18:38:23</td>\n",
              "      <td>40.75</td>\n",
              "      <td>GreenCook</td>\n",
              "      <td>US</td>\n",
              "      <td>US</td>\n",
              "      <td>09</td>\n",
              "      <td>01</td>\n",
              "      <td>food_delivery</td>\n",
              "      <td>2024-08-01</td>\n",
              "      <td>2015-08-06</td>\n",
              "      <td>2015-08-06</td>\n",
              "      <td>885</td>\n",
              "      <td>885</td>\n",
              "      <td>3143</td>\n",
              "      <td>PURCHASE</td>\n",
              "      <td>NaN</td>\n",
              "      <td>81.50</td>\n",
              "      <td>NaN</td>\n",
              "      <td>NaN</td>\n",
              "      <td>NaN</td>\n",
              "      <td>False</td>\n",
              "      <td>NaN</td>\n",
              "      <td>NaN</td>\n",
              "      <td>False</td>\n",
              "      <td>False</td>\n",
              "    </tr>\n",
              "  </tbody>\n",
              "</table>\n",
              "</div>"
            ],
            "text/plain": [
              "   accountNumber customerId  ...  expirationDateKeyInMatch  isFraud\n",
              "2      737265056  737265056  ...                     False    False\n",
              "3      737265056  737265056  ...                     False    False\n",
              "11     830329091  830329091  ...                     False    False\n",
              "12     830329091  830329091  ...                     False    False\n",
              "13     830329091  830329091  ...                     False    False\n",
              "\n",
              "[5 rows x 29 columns]"
            ]
          },
          "metadata": {
            "tags": []
          },
          "execution_count": 23
        }
      ]
    },
    {
      "cell_type": "code",
      "metadata": {
        "id": "0D36v00mBzS5"
      },
      "source": [
        "# Group the purchasing dataset and apply a function to calculate the time span\n",
        "\n",
        "def span(df):\n",
        "    df['time_span'] = df[\"transactionDateTime\"].diff(1).dt.total_seconds() / 3600\n",
        "    return df\n",
        "\n",
        "multi_purchase = purchase.groupby(['accountNumber', 'customerId', 'merchantName', 'transactionAmount']).apply(span)"
      ],
      "execution_count": null,
      "outputs": []
    },
    {
      "cell_type": "code",
      "metadata": {
        "colab": {
          "base_uri": "https://localhost:8080/",
          "height": 257
        },
        "id": "YmIe8L8kCEtg",
        "outputId": "30d7db70-907b-450e-a2a7-c3b87083adab"
      },
      "source": [
        "# Select rows which transaction time span is less than 1 hour\n",
        "\n",
        "multi_swipe = multi_purchase[multi_purchase.time_span < 1]\n",
        "multi_swipe.head()"
      ],
      "execution_count": null,
      "outputs": [
        {
          "output_type": "execute_result",
          "data": {
            "text/html": [
              "<div>\n",
              "<style scoped>\n",
              "    .dataframe tbody tr th:only-of-type {\n",
              "        vertical-align: middle;\n",
              "    }\n",
              "\n",
              "    .dataframe tbody tr th {\n",
              "        vertical-align: top;\n",
              "    }\n",
              "\n",
              "    .dataframe thead th {\n",
              "        text-align: right;\n",
              "    }\n",
              "</style>\n",
              "<table border=\"1\" class=\"dataframe\">\n",
              "  <thead>\n",
              "    <tr style=\"text-align: right;\">\n",
              "      <th></th>\n",
              "      <th>accountNumber</th>\n",
              "      <th>customerId</th>\n",
              "      <th>creditLimit</th>\n",
              "      <th>availableMoney</th>\n",
              "      <th>transactionDateTime</th>\n",
              "      <th>transactionAmount</th>\n",
              "      <th>merchantName</th>\n",
              "      <th>acqCountry</th>\n",
              "      <th>merchantCountryCode</th>\n",
              "      <th>posEntryMode</th>\n",
              "      <th>posConditionCode</th>\n",
              "      <th>merchantCategoryCode</th>\n",
              "      <th>currentExpDate</th>\n",
              "      <th>accountOpenDate</th>\n",
              "      <th>dateOfLastAddressChange</th>\n",
              "      <th>cardCVV</th>\n",
              "      <th>enteredCVV</th>\n",
              "      <th>cardLast4Digits</th>\n",
              "      <th>transactionType</th>\n",
              "      <th>echoBuffer</th>\n",
              "      <th>currentBalance</th>\n",
              "      <th>merchantCity</th>\n",
              "      <th>merchantState</th>\n",
              "      <th>merchantZip</th>\n",
              "      <th>cardPresent</th>\n",
              "      <th>posOnPremises</th>\n",
              "      <th>recurringAuthInd</th>\n",
              "      <th>expirationDateKeyInMatch</th>\n",
              "      <th>isFraud</th>\n",
              "      <th>time_span</th>\n",
              "    </tr>\n",
              "  </thead>\n",
              "  <tbody>\n",
              "    <tr>\n",
              "      <th>263</th>\n",
              "      <td>984504651</td>\n",
              "      <td>984504651</td>\n",
              "      <td>50000.0</td>\n",
              "      <td>26680.99</td>\n",
              "      <td>2016-03-12 06:34:29</td>\n",
              "      <td>118.52</td>\n",
              "      <td>AMC #706324</td>\n",
              "      <td>US</td>\n",
              "      <td>US</td>\n",
              "      <td>02</td>\n",
              "      <td>01</td>\n",
              "      <td>entertainment</td>\n",
              "      <td>2024-10-01</td>\n",
              "      <td>2015-07-27</td>\n",
              "      <td>2015-07-27</td>\n",
              "      <td>640</td>\n",
              "      <td>640</td>\n",
              "      <td>8332</td>\n",
              "      <td>PURCHASE</td>\n",
              "      <td>NaN</td>\n",
              "      <td>23319.01</td>\n",
              "      <td>NaN</td>\n",
              "      <td>NaN</td>\n",
              "      <td>NaN</td>\n",
              "      <td>True</td>\n",
              "      <td>NaN</td>\n",
              "      <td>NaN</td>\n",
              "      <td>False</td>\n",
              "      <td>False</td>\n",
              "      <td>0.004444</td>\n",
              "    </tr>\n",
              "    <tr>\n",
              "      <th>264</th>\n",
              "      <td>984504651</td>\n",
              "      <td>984504651</td>\n",
              "      <td>50000.0</td>\n",
              "      <td>26562.47</td>\n",
              "      <td>2016-03-12 06:36:41</td>\n",
              "      <td>118.52</td>\n",
              "      <td>AMC #706324</td>\n",
              "      <td>US</td>\n",
              "      <td>US</td>\n",
              "      <td>02</td>\n",
              "      <td>01</td>\n",
              "      <td>entertainment</td>\n",
              "      <td>2024-10-01</td>\n",
              "      <td>2015-07-27</td>\n",
              "      <td>2015-07-27</td>\n",
              "      <td>640</td>\n",
              "      <td>640</td>\n",
              "      <td>8332</td>\n",
              "      <td>PURCHASE</td>\n",
              "      <td>NaN</td>\n",
              "      <td>23437.53</td>\n",
              "      <td>NaN</td>\n",
              "      <td>NaN</td>\n",
              "      <td>NaN</td>\n",
              "      <td>True</td>\n",
              "      <td>NaN</td>\n",
              "      <td>NaN</td>\n",
              "      <td>False</td>\n",
              "      <td>False</td>\n",
              "      <td>0.036667</td>\n",
              "    </tr>\n",
              "    <tr>\n",
              "      <th>281</th>\n",
              "      <td>984504651</td>\n",
              "      <td>984504651</td>\n",
              "      <td>50000.0</td>\n",
              "      <td>24316.12</td>\n",
              "      <td>2016-03-18 13:57:04</td>\n",
              "      <td>26.71</td>\n",
              "      <td>Planet Fitness #692929</td>\n",
              "      <td>US</td>\n",
              "      <td>US</td>\n",
              "      <td>02</td>\n",
              "      <td>01</td>\n",
              "      <td>health</td>\n",
              "      <td>2024-10-01</td>\n",
              "      <td>2015-07-27</td>\n",
              "      <td>2015-07-27</td>\n",
              "      <td>640</td>\n",
              "      <td>640</td>\n",
              "      <td>8332</td>\n",
              "      <td>PURCHASE</td>\n",
              "      <td>NaN</td>\n",
              "      <td>25683.88</td>\n",
              "      <td>NaN</td>\n",
              "      <td>NaN</td>\n",
              "      <td>NaN</td>\n",
              "      <td>True</td>\n",
              "      <td>NaN</td>\n",
              "      <td>NaN</td>\n",
              "      <td>False</td>\n",
              "      <td>False</td>\n",
              "      <td>0.012222</td>\n",
              "    </tr>\n",
              "    <tr>\n",
              "      <th>339</th>\n",
              "      <td>984504651</td>\n",
              "      <td>984504651</td>\n",
              "      <td>50000.0</td>\n",
              "      <td>16503.49</td>\n",
              "      <td>2016-04-08 22:21:11</td>\n",
              "      <td>43.21</td>\n",
              "      <td>WSC #994275</td>\n",
              "      <td>US</td>\n",
              "      <td>US</td>\n",
              "      <td>02</td>\n",
              "      <td>08</td>\n",
              "      <td>health</td>\n",
              "      <td>2030-02-01</td>\n",
              "      <td>2015-07-27</td>\n",
              "      <td>2016-03-26</td>\n",
              "      <td>640</td>\n",
              "      <td>640</td>\n",
              "      <td>8332</td>\n",
              "      <td>PURCHASE</td>\n",
              "      <td>NaN</td>\n",
              "      <td>33496.51</td>\n",
              "      <td>NaN</td>\n",
              "      <td>NaN</td>\n",
              "      <td>NaN</td>\n",
              "      <td>False</td>\n",
              "      <td>NaN</td>\n",
              "      <td>NaN</td>\n",
              "      <td>False</td>\n",
              "      <td>False</td>\n",
              "      <td>0.010556</td>\n",
              "    </tr>\n",
              "    <tr>\n",
              "      <th>413</th>\n",
              "      <td>984504651</td>\n",
              "      <td>984504651</td>\n",
              "      <td>50000.0</td>\n",
              "      <td>7302.32</td>\n",
              "      <td>2016-05-07 07:32:54</td>\n",
              "      <td>23.82</td>\n",
              "      <td>Golds Gym #846582</td>\n",
              "      <td>US</td>\n",
              "      <td>US</td>\n",
              "      <td>09</td>\n",
              "      <td>01</td>\n",
              "      <td>health</td>\n",
              "      <td>2030-12-01</td>\n",
              "      <td>2015-07-27</td>\n",
              "      <td>2016-05-05</td>\n",
              "      <td>640</td>\n",
              "      <td>640</td>\n",
              "      <td>8332</td>\n",
              "      <td>PURCHASE</td>\n",
              "      <td>NaN</td>\n",
              "      <td>42697.68</td>\n",
              "      <td>NaN</td>\n",
              "      <td>NaN</td>\n",
              "      <td>NaN</td>\n",
              "      <td>True</td>\n",
              "      <td>NaN</td>\n",
              "      <td>NaN</td>\n",
              "      <td>False</td>\n",
              "      <td>False</td>\n",
              "      <td>0.047778</td>\n",
              "    </tr>\n",
              "  </tbody>\n",
              "</table>\n",
              "</div>"
            ],
            "text/plain": [
              "    accountNumber customerId  ...  isFraud  time_span\n",
              "263     984504651  984504651  ...    False   0.004444\n",
              "264     984504651  984504651  ...    False   0.036667\n",
              "281     984504651  984504651  ...    False   0.012222\n",
              "339     984504651  984504651  ...    False   0.010556\n",
              "413     984504651  984504651  ...    False   0.047778\n",
              "\n",
              "[5 rows x 30 columns]"
            ]
          },
          "metadata": {
            "tags": []
          },
          "execution_count": 25
        }
      ]
    },
    {
      "cell_type": "markdown",
      "metadata": {
        "id": "HJoOaJ-HCWPO"
      },
      "source": [
        "\n",
        "**2. Total number of transactions and total dollar amount estimated for the reversed transactions and the multi-swipe transactions.**"
      ]
    },
    {
      "cell_type": "code",
      "metadata": {
        "colab": {
          "base_uri": "https://localhost:8080/"
        },
        "id": "568Twn1yCQ7b",
        "outputId": "9aeacaf6-505c-470a-da58-dd8f3156b35c"
      },
      "source": [
        "print(f\"The total number of transactions for reversed transactions is {reversed_trans.shape[0]}.\")\n",
        "print(f\"The total dollar estimated  for reversed transactions is {reversed_trans.transactionAmount.sum()}.\")\n",
        "print(f\"The total number of multi-swipe transactions is {multi_swipe.shape[0]}.\")\n",
        "print(f\"The total dollar estimated  for reversed transactions is {multi_swipe.transactionAmount.sum()}.\")"
      ],
      "execution_count": null,
      "outputs": [
        {
          "output_type": "stream",
          "text": [
            "The total number of transactions for reversed transactions is 17999.\n",
            "The total dollar estimated  for reversed transactions is 2701311.87.\n",
            "The total number of multi-swipe transactions is 7450.\n",
            "The total dollar estimated  for reversed transactions is 1103132.25.\n"
          ],
          "name": "stdout"
        }
      ]
    },
    {
      "cell_type": "markdown",
      "metadata": {
        "id": "j9q6NtnQERrm"
      },
      "source": [
        "\n",
        "####**3. Anything interesting about either kind of transaction.**"
      ]
    },
    {
      "cell_type": "markdown",
      "metadata": {
        "id": "E9oGJr2gEbKt"
      },
      "source": [
        "**3.1. Mechant category of different kinds of duplicates**"
      ]
    },
    {
      "cell_type": "markdown",
      "metadata": {
        "id": "GGen7MxpEpJ6"
      },
      "source": [
        "I want to know whether the type of merchant will have impact on the likelihood of duplicate transactions. So I will build a table for proportions of reversed transaction and multi-swipe in different types of merchant and see if there're some interesting patterns."
      ]
    },
    {
      "cell_type": "code",
      "metadata": {
        "id": "4ZlhnE0fEH3M"
      },
      "source": [
        "# Get proportion of different types of merchant\n",
        "\n",
        "all_pro = data.merchantCategoryCode.value_counts(normalize=True).rename_axis('MerchantCategory').to_frame('overall_proportion')\n",
        "rev_pro = reversed_trans.merchantCategoryCode_x.value_counts(normalize=True).rename_axis('MerchantCategory').to_frame('reversed_proportion')\n",
        "mul_pro = multi_swipe.merchantCategoryCode.value_counts(normalize=True).rename_axis('MerchantCategory').to_frame('multi_proportion')"
      ],
      "execution_count": null,
      "outputs": []
    },
    {
      "cell_type": "code",
      "metadata": {
        "colab": {
          "base_uri": "https://localhost:8080/",
          "height": 667
        },
        "id": "QKtEBQPFE0Fk",
        "outputId": "1d81d5b9-106e-4fcb-cb34-d1f5430a8a00"
      },
      "source": [
        "# Compare proportion of different types of merchant# Get proportion of \n",
        "\n",
        "mer_pro = all_pro.merge(rev_pro, how='left', on=['MerchantCategory']).merge(mul_pro, how='left', on=['MerchantCategory'])\n",
        "mer_pro"
      ],
      "execution_count": null,
      "outputs": [
        {
          "output_type": "execute_result",
          "data": {
            "text/html": [
              "<div>\n",
              "<style scoped>\n",
              "    .dataframe tbody tr th:only-of-type {\n",
              "        vertical-align: middle;\n",
              "    }\n",
              "\n",
              "    .dataframe tbody tr th {\n",
              "        vertical-align: top;\n",
              "    }\n",
              "\n",
              "    .dataframe thead th {\n",
              "        text-align: right;\n",
              "    }\n",
              "</style>\n",
              "<table border=\"1\" class=\"dataframe\">\n",
              "  <thead>\n",
              "    <tr style=\"text-align: right;\">\n",
              "      <th></th>\n",
              "      <th>overall_proportion</th>\n",
              "      <th>reversed_proportion</th>\n",
              "      <th>multi_proportion</th>\n",
              "    </tr>\n",
              "    <tr>\n",
              "      <th>MerchantCategory</th>\n",
              "      <th></th>\n",
              "      <th></th>\n",
              "      <th></th>\n",
              "    </tr>\n",
              "  </thead>\n",
              "  <tbody>\n",
              "    <tr>\n",
              "      <th>online_retail</th>\n",
              "      <td>0.257077</td>\n",
              "      <td>0.275460</td>\n",
              "      <td>0.275705</td>\n",
              "    </tr>\n",
              "    <tr>\n",
              "      <th>fastfood</th>\n",
              "      <td>0.142603</td>\n",
              "      <td>0.155620</td>\n",
              "      <td>0.160000</td>\n",
              "    </tr>\n",
              "    <tr>\n",
              "      <th>entertainment</th>\n",
              "      <td>0.101859</td>\n",
              "      <td>0.108950</td>\n",
              "      <td>0.115302</td>\n",
              "    </tr>\n",
              "    <tr>\n",
              "      <th>food</th>\n",
              "      <td>0.095999</td>\n",
              "      <td>0.104784</td>\n",
              "      <td>0.103221</td>\n",
              "    </tr>\n",
              "    <tr>\n",
              "      <th>online_gifts</th>\n",
              "      <td>0.084233</td>\n",
              "      <td>0.095116</td>\n",
              "      <td>0.089799</td>\n",
              "    </tr>\n",
              "    <tr>\n",
              "      <th>rideshare</th>\n",
              "      <td>0.065028</td>\n",
              "      <td>0.067782</td>\n",
              "      <td>0.068456</td>\n",
              "    </tr>\n",
              "    <tr>\n",
              "      <th>hotels</th>\n",
              "      <td>0.043360</td>\n",
              "      <td>0.049725</td>\n",
              "      <td>0.045235</td>\n",
              "    </tr>\n",
              "    <tr>\n",
              "      <th>fuel</th>\n",
              "      <td>0.030406</td>\n",
              "      <td>NaN</td>\n",
              "      <td>NaN</td>\n",
              "    </tr>\n",
              "    <tr>\n",
              "      <th>subscriptions</th>\n",
              "      <td>0.029123</td>\n",
              "      <td>0.030502</td>\n",
              "      <td>0.031141</td>\n",
              "    </tr>\n",
              "    <tr>\n",
              "      <th>auto</th>\n",
              "      <td>0.027533</td>\n",
              "      <td>0.028224</td>\n",
              "      <td>0.027114</td>\n",
              "    </tr>\n",
              "    <tr>\n",
              "      <th>health</th>\n",
              "      <td>0.024279</td>\n",
              "      <td>0.026279</td>\n",
              "      <td>0.025101</td>\n",
              "    </tr>\n",
              "    <tr>\n",
              "      <th>personal care</th>\n",
              "      <td>0.024116</td>\n",
              "      <td>0.026724</td>\n",
              "      <td>0.027785</td>\n",
              "    </tr>\n",
              "    <tr>\n",
              "      <th>airline</th>\n",
              "      <td>0.019599</td>\n",
              "      <td>0.020779</td>\n",
              "      <td>0.022953</td>\n",
              "    </tr>\n",
              "    <tr>\n",
              "      <th>mobileapps</th>\n",
              "      <td>0.019062</td>\n",
              "      <td>NaN</td>\n",
              "      <td>NaN</td>\n",
              "    </tr>\n",
              "    <tr>\n",
              "      <th>online_subscriptions</th>\n",
              "      <td>0.014074</td>\n",
              "      <td>NaN</td>\n",
              "      <td>NaN</td>\n",
              "    </tr>\n",
              "    <tr>\n",
              "      <th>furniture</th>\n",
              "      <td>0.009451</td>\n",
              "      <td>0.010056</td>\n",
              "      <td>0.008188</td>\n",
              "    </tr>\n",
              "    <tr>\n",
              "      <th>food_delivery</th>\n",
              "      <td>0.007630</td>\n",
              "      <td>NaN</td>\n",
              "      <td>NaN</td>\n",
              "    </tr>\n",
              "    <tr>\n",
              "      <th>gym</th>\n",
              "      <td>0.002809</td>\n",
              "      <td>NaN</td>\n",
              "      <td>NaN</td>\n",
              "    </tr>\n",
              "    <tr>\n",
              "      <th>cable/phone</th>\n",
              "      <td>0.001757</td>\n",
              "      <td>NaN</td>\n",
              "      <td>NaN</td>\n",
              "    </tr>\n",
              "  </tbody>\n",
              "</table>\n",
              "</div>"
            ],
            "text/plain": [
              "                      overall_proportion  reversed_proportion  multi_proportion\n",
              "MerchantCategory                                                               \n",
              "online_retail                   0.257077             0.275460          0.275705\n",
              "fastfood                        0.142603             0.155620          0.160000\n",
              "entertainment                   0.101859             0.108950          0.115302\n",
              "food                            0.095999             0.104784          0.103221\n",
              "online_gifts                    0.084233             0.095116          0.089799\n",
              "rideshare                       0.065028             0.067782          0.068456\n",
              "hotels                          0.043360             0.049725          0.045235\n",
              "fuel                            0.030406                  NaN               NaN\n",
              "subscriptions                   0.029123             0.030502          0.031141\n",
              "auto                            0.027533             0.028224          0.027114\n",
              "health                          0.024279             0.026279          0.025101\n",
              "personal care                   0.024116             0.026724          0.027785\n",
              "airline                         0.019599             0.020779          0.022953\n",
              "mobileapps                      0.019062                  NaN               NaN\n",
              "online_subscriptions            0.014074                  NaN               NaN\n",
              "furniture                       0.009451             0.010056          0.008188\n",
              "food_delivery                   0.007630                  NaN               NaN\n",
              "gym                             0.002809                  NaN               NaN\n",
              "cable/phone                     0.001757                  NaN               NaN"
            ]
          },
          "metadata": {
            "tags": []
          },
          "execution_count": 28
        }
      ]
    },
    {
      "cell_type": "markdown",
      "metadata": {
        "id": "Z0GVYWycFC4r"
      },
      "source": [
        "* 1. From the above dataset we can see that,generally speaking, merchants who account for a higher proportion of overall transactions are also more likely to have reversed transactions and multi-swipe transactions. This also means that most of merchant don't have a much higher or lower possibility to give reversed transactions or multi-swipe transactions.\n",
        "* 2. However, for fuel merchants, they account for more than 3% in the overall transaction data but don't have any records in the reversed transactions and multi-swipe transactions data. This means that fuel merchants have very lower possibility to give reversed transactions or multi-swipe transactions to their customers."
      ]
    },
    {
      "cell_type": "markdown",
      "metadata": {
        "id": "w-G9xd06FQf2"
      },
      "source": [
        "**3.2. Time span between duplicates** "
      ]
    },
    {
      "cell_type": "code",
      "metadata": {
        "id": "GQfikZjbE3nM"
      },
      "source": [
        "\n",
        "# Add time span of reversed transactions\n",
        "\n",
        "reversed_trans['time_span'] = ((reversed_trans.transactionDateTime_y - \n",
        "                               reversed_trans.transactionDateTime_x) / np.timedelta64(1, 'D')).astype(int)"
      ],
      "execution_count": null,
      "outputs": []
    },
    {
      "cell_type": "code",
      "metadata": {
        "colab": {
          "base_uri": "https://localhost:8080/",
          "height": 585
        },
        "id": "ie9MTRxMFVcJ",
        "outputId": "fa7fb3cc-f87e-4a96-c7a5-6cc177660d99"
      },
      "source": [
        "# Make distribution plots to visualize their time span and compare\n",
        "\n",
        "fig, ax = plt.subplots(nrows=1, ncols=2, figsize=(16, 8))\n",
        "sns.distplot(reversed_trans.time_span, hist=True, kde=True, ax=ax[0])\n",
        "ax[0].set_xlabel('Time span (days)')\n",
        "ax[0].set_title('Histogram of reversed transactions time span', fontsize=10)\n",
        "\n",
        "# A KDE plot of transactions without outliers\n",
        "sns.distplot(multi_swipe.time_span, hist=True, kde=True, ax=ax[1])\n",
        "ax[1].set_xlabel('Time span (hours)')\n",
        "ax[1].set_title('Histogram of multi-swipes transactions time span', fontsize=10)\n",
        "plt.tight_layout()\n",
        "plt.show()\n"
      ],
      "execution_count": null,
      "outputs": [
        {
          "output_type": "display_data",
          "data": {
            "image/png": "[encoded data removed]",
            "text/plain": [
              "<Figure size 1152x576 with 2 Axes>"
            ]
          },
          "metadata": {
            "tags": [],
            "needs_background": "light"
          }
        }
      ]
    },
    {
      "cell_type": "markdown",
      "metadata": {
        "id": "btTFwzl4FmsC"
      },
      "source": [
        "* 1. From the above graphs, we can find that there're often days between multiple reversed transactions. And almost all of them happen within 50 days.\n",
        "* 2. While multi-swipe transactions often happen within few seconds. Almost all of them happen within 3 minutes."
      ]
    },
    {
      "cell_type": "code",
      "metadata": {
        "colab": {
          "base_uri": "https://localhost:8080/",
          "height": 476
        },
        "id": "y03e-7-TGqPA",
        "outputId": "aed2e5a0-d370-495b-e371-c5ee10cd4b1d"
      },
      "source": [
        "# Creating countplot for sub_category\n",
        "fig = plt.figure(figsize=(12,7))\n",
        "plt.title('Countplot for transactionType')\n",
        "plt.xlabel('transactionType')\n",
        "plt.ylabel('Count')\n",
        "sns.countplot(x='transactionType',data=data)"
      ],
      "execution_count": null,
      "outputs": [
        {
          "output_type": "execute_result",
          "data": {
            "text/plain": [
              "<matplotlib.axes._subplots.AxesSubplot at 0x7fc546c611d0>"
            ]
          },
          "metadata": {
            "tags": []
          },
          "execution_count": 31
        },
        {
          "output_type": "display_data",
          "data": {
            "image/png": "[encoded data removed]",
            "text/plain": [
              "<Figure size 864x504 with 1 Axes>"
            ]
          },
          "metadata": {
            "tags": [],
            "needs_background": "light"
          }
        }
      ]
    },
    {
      "cell_type": "markdown",
      "metadata": {
        "id": "VfGzPBBQHXX9"
      },
      "source": [
        "\n",
        "#**Model Building**"
      ]
    },
    {
      "cell_type": "markdown",
      "metadata": {
        "id": "ycoFv_KpHhIw"
      },
      "source": [
        "###**1. Build a predictive model to determine whether a given transaction will be fraudulent or not.**"
      ]
    },
    {
      "cell_type": "code",
      "metadata": {
        "id": "6FvW2U10G7BV"
      },
      "source": [
        "# Make a copy of the original dataset for model building\n",
        "df = data.copy()"
      ],
      "execution_count": null,
      "outputs": []
    },
    {
      "cell_type": "markdown",
      "metadata": {
        "id": "K04hT0YeHut5"
      },
      "source": [
        "**1.1. Applying Missing value Treatment**"
      ]
    },
    {
      "cell_type": "code",
      "metadata": {
        "id": "79JBrbVrHo2a"
      },
      "source": [
        "# Drop columns with no records\n",
        "df = df.drop(['echoBuffer', 'merchantCity', 'merchantState', 'merchantZip', 'posOnPremises', 'recurringAuthInd'\n",
        "], axis=1)"
      ],
      "execution_count": null,
      "outputs": []
    },
    {
      "cell_type": "code",
      "metadata": {
        "colab": {
          "base_uri": "https://localhost:8080/"
        },
        "id": "vKsU-D_aH5eC",
        "outputId": "67017de5-8f71-4b78-d498-29b24b3cad81"
      },
      "source": [
        "# displaying null values in the dataset\n",
        "df.isnull().sum()"
      ],
      "execution_count": null,
      "outputs": [
        {
          "output_type": "execute_result",
          "data": {
            "text/plain": [
              "accountNumber                  0\n",
              "customerId                     0\n",
              "creditLimit                    0\n",
              "availableMoney                 0\n",
              "transactionDateTime            0\n",
              "transactionAmount              0\n",
              "merchantName                   0\n",
              "acqCountry                  4562\n",
              "merchantCountryCode          724\n",
              "posEntryMode                4054\n",
              "posConditionCode             409\n",
              "merchantCategoryCode           0\n",
              "currentExpDate                 0\n",
              "accountOpenDate                0\n",
              "dateOfLastAddressChange        0\n",
              "cardCVV                        0\n",
              "enteredCVV                     0\n",
              "cardLast4Digits                0\n",
              "transactionType              698\n",
              "currentBalance                 0\n",
              "cardPresent                    0\n",
              "expirationDateKeyInMatch       0\n",
              "isFraud                        0\n",
              "dtype: int64"
            ]
          },
          "metadata": {
            "tags": []
          },
          "execution_count": 34
        }
      ]
    },
    {
      "cell_type": "code",
      "metadata": {
        "colab": {
          "base_uri": "https://localhost:8080/"
        },
        "id": "3uCVuK8MJGkh",
        "outputId": "68811019-51f3-4b17-a8af-95dd0b03515a"
      },
      "source": [
        "\n",
        "# Inspect missing values columns\n",
        "\n",
        "print(\"Frequency of values in column acqCountry: \\n\",df.acqCountry.value_counts())\n",
        "print(\"Frequency of values in column merchantCountryCode: \\n\",df.merchantCountryCode.value_counts())\n",
        "print(\"Frequency of values in column posEntryMode: \\n\",df.posEntryMode.value_counts())\n",
        "print(\"Frequency of values in column posConditionCode: \\n\",df.posConditionCode.value_counts())\n",
        "print(\"Frequency of values in column transactionType: \\n\",df.transactionType.value_counts())"
      ],
      "execution_count": null,
      "outputs": [
        {
          "output_type": "stream",
          "text": [
            "Frequency of values in column acqCountry: \n",
            " US     774709\n",
            "MEX      3130\n",
            "CAN      2424\n",
            "PR       1538\n",
            "Name: acqCountry, dtype: int64\n",
            "Frequency of values in column merchantCountryCode: \n",
            " US     778511\n",
            "MEX      3143\n",
            "CAN      2426\n",
            "PR       1559\n",
            "Name: merchantCountryCode, dtype: int64\n",
            "Frequency of values in column posEntryMode: \n",
            " 05    315035\n",
            "09    236481\n",
            "02    195934\n",
            "90     19576\n",
            "80     15283\n",
            "Name: posEntryMode, dtype: int64\n",
            "Frequency of values in column posConditionCode: \n",
            " 01    628787\n",
            "08    149634\n",
            "99      7533\n",
            "Name: posConditionCode, dtype: int64\n",
            "Frequency of values in column transactionType: \n",
            " PURCHASE                745193\n",
            "REVERSAL                 20303\n",
            "ADDRESS_VERIFICATION     20169\n",
            "Name: transactionType, dtype: int64\n"
          ],
          "name": "stdout"
        }
      ]
    },
    {
      "cell_type": "code",
      "metadata": {
        "id": "L6k7kxS5Jdo9"
      },
      "source": [
        "#handling missing data (Replacing missing data with the mode value)  \n",
        "imputer= SimpleImputer(missing_values=np.NAN,strategy='most_frequent',fill_value=None, verbose=1, copy=True)\n",
        "imputer= imputer.fit(df[['acqCountry','merchantCountryCode','posEntryMode','posConditionCode','transactionType']])\n",
        "df[['acqCountry','merchantCountryCode','posEntryMode','posConditionCode','transactionType']]=imputer.transform(df[['acqCountry','merchantCountryCode','posEntryMode','posConditionCode','transactionType']])"
      ],
      "execution_count": null,
      "outputs": []
    },
    {
      "cell_type": "markdown",
      "metadata": {
        "id": "wU7b7TV_XjnC"
      },
      "source": [
        "**1.2. Feature engineering**"
      ]
    },
    {
      "cell_type": "markdown",
      "metadata": {
        "id": "YhQmZwOiYlwL"
      },
      "source": [
        "The original dataset contains a number of features but some of them don't tell much valuable information. So I will convert to a new feature, which I believe will be more related to fraud detection."
      ]
    },
    {
      "cell_type": "markdown",
      "metadata": {
        "id": "wQvrf6P1YpCK"
      },
      "source": [
        "\n",
        "**1.2.1. rightCVV**"
      ]
    },
    {
      "cell_type": "markdown",
      "metadata": {
        "id": "fvax6tIsY0Qc"
      },
      "source": [
        "The original dataset has 2 columns, \"cardCVV\" and \"enteredCVV\". I will convert these 2 columns to be a dummy feature: \"rightCVV\". If cardCVV = enteredCVV, rightCVV = 1, otherwise, rightCVV = 0. The reason I do this is that typically, the card's verification value adds extra security to transaction. So if the entered CVV is incorrect, it's highly possible that this transaction would be fraud."
      ]
    },
    {
      "cell_type": "code",
      "metadata": {
        "id": "95g5FMXDNeCJ"
      },
      "source": [
        "# Convert cardCVV and enteredCVV to rightCVV\n",
        "\n",
        "df['rightCVV'] = (df.cardCVV == df.enteredCVV).astype(int)\n",
        "df = df.drop(['cardCVV', 'enteredCVV'], axis=1)"
      ],
      "execution_count": null,
      "outputs": []
    },
    {
      "cell_type": "markdown",
      "metadata": {
        "id": "wg8UME8WdkiK"
      },
      "source": [
        "**1.2.2. sameCountry**"
      ]
    },
    {
      "cell_type": "markdown",
      "metadata": {
        "id": "ychDo1g5ds0f"
      },
      "source": [
        "The original dataset has 2 columns, \"acqCountry\" and \"merchantCountryCode\". I will convert these 2 columns to be a dummy feature: \"sameCountry\". If acqCountry = merchantCountryCode, sameCountry = 1, otherwise, sameCountry = 0. The reason I do this is that most of the time, people will use their cards in the country they acquired cards. If they use their cards in some other countries, it's possible that this transaction would be fraud."
      ]
    },
    {
      "cell_type": "code",
      "metadata": {
        "id": "r4W-iAnkdS_F"
      },
      "source": [
        "# Convert acqCountry and merchantCountryCode to sameCountry\n",
        "\n",
        "df['sameCountry'] = (df.acqCountry == df.merchantCountryCode).astype(int)\n",
        "df = df.drop(['acqCountry', 'merchantCountryCode'], axis=1)"
      ],
      "execution_count": null,
      "outputs": []
    },
    {
      "cell_type": "markdown",
      "metadata": {
        "id": "0BPAbucxd3lN"
      },
      "source": [
        "\n",
        "**1.2.3. Whether first time purchasing merchant**"
      ]
    },
    {
      "cell_type": "markdown",
      "metadata": {
        "id": "UrKXkDBLeXzg"
      },
      "source": [
        "The original dataset has a feature \"merchantName\". Actually just the name can't tell us something valuable. So I will convert this column to be a dummy feature: \"firPurchase\". If it's the customer's first time purchasing in this merchant, firPurchase = 1, otherwise, firPurchase = 0. The reason I do this is that most of the time, fraud transactions happen in a merchant where the customer hasn't used before."
      ]
    },
    {
      "cell_type": "code",
      "metadata": {
        "id": "6japX7LDeLIh"
      },
      "source": [
        "# Convert merchantName to firPurchase\n",
        "\n",
        "# Decide whether it's the first record of a certain customer in a certain customer\n",
        "df = df.sort_values(['customerId', 'merchantName', 'transactionDateTime'])\n",
        "df['firPurchase'] = df.groupby(['customerId', 'merchantName']).cumcount()\n",
        "df['firPurchase'][df['firPurchase'] == 0] = 1\n",
        "df['firPurchase'][df['firPurchase'] > 0] = 0"
      ],
      "execution_count": null,
      "outputs": []
    },
    {
      "cell_type": "markdown",
      "metadata": {
        "id": "QxJnfH5Fg-VL"
      },
      "source": [
        "**1.2.4. Datetime data** "
      ]
    },
    {
      "cell_type": "markdown",
      "metadata": {
        "id": "HF6l-tm1jJMl"
      },
      "source": [
        "The original dataset has multiple date transactionDateTime, currentExpDate, accountOpenDate and dateOfLastAddressChange. I want to convert these datetime features into time interval features, which are more informative.\n",
        "\n",
        "* 1. For currentExpDate, I will change it to expTime, which indicates the time between the transaction date and the expiration date.\n",
        "* 2. For accountOpenDate, I will change it to openTime, which indicates the time between the account open date and the transaction date.\n",
        "* 3. For dateOfLastAddressChange, I will change it to changeAddTime, which indicates the time between the last of address change date and the transaction date."
      ]
    },
    {
      "cell_type": "code",
      "metadata": {
        "id": "FfcAkNB4eztj"
      },
      "source": [
        "# Convert datetime to time span (days)\n",
        "df['expTime'] = ((df.currentExpDate - df.transactionDateTime) / np.timedelta64(1, 'D'))\n",
        "df['openTime'] = ((df.transactionDateTime - df.accountOpenDate) / np.timedelta64(1, 'D'))\n",
        "df['changeAddTime'] = ((df.transactionDateTime - df.dateOfLastAddressChange) / np.timedelta64(1, 'D'))"
      ],
      "execution_count": null,
      "outputs": []
    },
    {
      "cell_type": "markdown",
      "metadata": {
        "id": "tdHmx2lMku5r"
      },
      "source": [
        "**1.2.5. Duplicate transactions (reversed transaction and multi-swipes)**"
      ]
    },
    {
      "cell_type": "markdown",
      "metadata": {
        "id": "DX2-KenAlGBh"
      },
      "source": [
        "I will add reversed transaction and multi-swipes as attributes to the dataset because that pratically speaking, duplicate transactions may have higher possibilities to be fraud. So I will add dummy variables to identify whether this transaction is reversed transaction and whetehr this transaction is multi-swipes transaction."
      ]
    },
    {
      "cell_type": "code",
      "metadata": {
        "id": "-fzAIaJPkceL"
      },
      "source": [
        "# Subset reversed transactions in the dataset\n",
        "\n",
        "lst_re = ['accountNumber', 'transactionAmount', 'merchantName', 'transactionDateTime_y', 'transactionType_y']\n",
        "lst_or = ['accountNumber', 'transactionAmount', 'merchantName', 'transactionDateTime', 'transactionType']\n",
        "\n",
        "df.loc[df.set_index(lst_or).index.isin(reversed_trans.set_index(lst_re).index) == True, 'reversed'] = 1"
      ],
      "execution_count": null,
      "outputs": []
    },
    {
      "cell_type": "code",
      "metadata": {
        "id": "2ZkgWE7VlpHv"
      },
      "source": [
        "# if not reversed transaction, reversed = 0\n",
        "\n",
        "df.reversed = df.reversed.fillna(0)"
      ],
      "execution_count": null,
      "outputs": []
    },
    {
      "cell_type": "code",
      "metadata": {
        "colab": {
          "base_uri": "https://localhost:8080/"
        },
        "id": "rBUP6M_1l2kQ",
        "outputId": "5ea1e48f-2ea4-43fd-c20b-3acc097339ac"
      },
      "source": [
        "# Check the number of reversed transactions and other transactions\n",
        "\n",
        "df.reversed.value_counts()"
      ],
      "execution_count": null,
      "outputs": [
        {
          "output_type": "execute_result",
          "data": {
            "text/plain": [
              "0.0    768604\n",
              "1.0     17759\n",
              "Name: reversed, dtype: int64"
            ]
          },
          "metadata": {
            "tags": []
          },
          "execution_count": 43
        }
      ]
    },
    {
      "cell_type": "code",
      "metadata": {
        "id": "ZC2XvNuUl7Ka"
      },
      "source": [
        "# Subset multi-swipe transactions in the dataset\n",
        "\n",
        "lst_mul = ['accountNumber', 'transactionAmount', 'merchantName', 'transactionDateTime', 'transactionType']\n",
        "lst_or = ['accountNumber', 'transactionAmount', 'merchantName', 'transactionDateTime', 'transactionType']\n",
        "\n",
        "df.loc[df.set_index(lst_or).index.isin(multi_swipe.set_index(lst_mul).index) == True, 'multi'] = 1"
      ],
      "execution_count": null,
      "outputs": []
    },
    {
      "cell_type": "code",
      "metadata": {
        "id": "HARr3UYmmH8G"
      },
      "source": [
        "# if not multi-swipe transaction, multi = 0\n",
        "\n",
        "df.multi = df.multi.fillna(0)"
      ],
      "execution_count": null,
      "outputs": []
    },
    {
      "cell_type": "code",
      "metadata": {
        "colab": {
          "base_uri": "https://localhost:8080/"
        },
        "id": "6VLonr2RmKph",
        "outputId": "68e76f92-6b66-477f-f4e8-5d6b192a280e"
      },
      "source": [
        "# Check the number of multi-swipe transactions\n",
        "\n",
        "df.multi.value_counts()"
      ],
      "execution_count": null,
      "outputs": [
        {
          "output_type": "execute_result",
          "data": {
            "text/plain": [
              "0.0    778913\n",
              "1.0      7450\n",
              "Name: multi, dtype: int64"
            ]
          },
          "metadata": {
            "tags": []
          },
          "execution_count": 46
        }
      ]
    },
    {
      "cell_type": "markdown",
      "metadata": {
        "id": "cXVgXsVRmXfM"
      },
      "source": [
        "\n",
        "####**1.3. Feature selection**"
      ]
    },
    {
      "cell_type": "markdown",
      "metadata": {
        "id": "kiaVua0BmkAH"
      },
      "source": [
        "* I will firstly drop some columns which will not be useful for model building.\n",
        "\n",
        "1. accountNumber, customerId and cardLast4Digits, which are just identifiers for each card\n",
        "2. As I explained before, I will drop merchantName and datetime variables including: transactionDateTime, currentExpDate, accountOpenDate and dateOfLastAddressChange\n",
        "3. availableMoney, which is highly related to creditLimit and currentBalance. availableMoney = creditLimit - currentBalance\n",
        "* Check correlation matrix to see if remaining features are correlated"
      ]
    },
    {
      "cell_type": "code",
      "metadata": {
        "id": "8-TTCMqsmTy-"
      },
      "source": [
        "df = df.drop(['accountNumber', 'customerId', 'cardLast4Digits', 'merchantName', 'transactionDateTime',\n",
        "             'currentExpDate', 'accountOpenDate', 'dateOfLastAddressChange', 'availableMoney'], axis=1)"
      ],
      "execution_count": null,
      "outputs": []
    },
    {
      "cell_type": "code",
      "metadata": {
        "colab": {
          "base_uri": "https://localhost:8080/",
          "height": 627
        },
        "id": "suYad-4unc3z",
        "outputId": "6f9f4fe0-a698-450f-d7b5-bf231ed113c9"
      },
      "source": [
        "# heatmap showing the correlation between the features\n",
        "plt.figure(figsize=(15,8))\n",
        "sns.heatmap(data=df.corr(),annot=True,linewidths=1, linecolor='white',cmap='rocket')"
      ],
      "execution_count": null,
      "outputs": [
        {
          "output_type": "execute_result",
          "data": {
            "text/plain": [
              "<matplotlib.axes._subplots.AxesSubplot at 0x7fc546bd8210>"
            ]
          },
          "metadata": {
            "tags": []
          },
          "execution_count": 48
        },
        {
          "output_type": "display_data",
          "data": {
            "image/png": "[encoded data removed]",
            "text/plain": [
              "<Figure size 1080x576 with 2 Axes>"
            ]
          },
          "metadata": {
            "tags": [],
            "needs_background": "light"
          }
        }
      ]
    },
    {
      "cell_type": "markdown",
      "metadata": {
        "id": "ezlEy6EUpjq3"
      },
      "source": [
        "* We can see that all their correlation is less than 0.7, so I will keep these features right now."
      ]
    },
    {
      "cell_type": "markdown",
      "metadata": {
        "id": "JRTkP4ojpplM"
      },
      "source": [
        "\n",
        "**1.4. Preprocessing**"
      ]
    },
    {
      "cell_type": "markdown",
      "metadata": {
        "id": "INFOUm524i_S"
      },
      "source": [
        "**Segregating the Dependent and Independent variables**"
      ]
    },
    {
      "cell_type": "code",
      "metadata": {
        "id": "rR7frQeR5e45"
      },
      "source": [
        "features=df.drop(['isFraud'], axis = 1)\n",
        "X=features.copy()\n"
      ],
      "execution_count": null,
      "outputs": []
    },
    {
      "cell_type": "code",
      "metadata": {
        "colab": {
          "base_uri": "https://localhost:8080/"
        },
        "id": "EFekNgjD5t9U",
        "outputId": "52c69eb7-a9d2-46ee-d479-05058cc18c05"
      },
      "source": [
        "features.shape"
      ],
      "execution_count": null,
      "outputs": [
        {
          "output_type": "execute_result",
          "data": {
            "text/plain": [
              "(786363, 17)"
            ]
          },
          "metadata": {
            "tags": []
          },
          "execution_count": 51
        }
      ]
    },
    {
      "cell_type": "code",
      "metadata": {
        "id": "DowMsX9b5v5b"
      },
      "source": [
        "labels=df[['isFraud']]"
      ],
      "execution_count": null,
      "outputs": []
    },
    {
      "cell_type": "code",
      "metadata": {
        "colab": {
          "base_uri": "https://localhost:8080/"
        },
        "id": "2LqyvLY951xW",
        "outputId": "f05da2b9-7434-4ece-be4b-ebcea94202e2"
      },
      "source": [
        "labels.shape"
      ],
      "execution_count": null,
      "outputs": [
        {
          "output_type": "execute_result",
          "data": {
            "text/plain": [
              "(786363, 1)"
            ]
          },
          "metadata": {
            "tags": []
          },
          "execution_count": 53
        }
      ]
    },
    {
      "cell_type": "code",
      "metadata": {
        "id": "WGDcNpvH8cCk"
      },
      "source": [
        "# Convert boolean features into int variables\n",
        "\n",
        "boo = features.select_dtypes(include=['bool']).columns.to_list()\n",
        "for column in boo:\n",
        "    features[column] = features[column].astype(int)\n",
        "features.reversed = features.reversed.astype(int)\n",
        "features.multi = features.multi.astype(int)\n",
        "labels.isFraud=labels.isFraud.astype(int)"
      ],
      "execution_count": null,
      "outputs": []
    },
    {
      "cell_type": "markdown",
      "metadata": {
        "id": "CVvt2OE06EXJ"
      },
      "source": [
        "**Encoding Categorical data using OneHotEncoding**"
      ]
    },
    {
      "cell_type": "code",
      "metadata": {
        "id": "-PUTwwWn53q4"
      },
      "source": [
        "# Encoding the Features \n",
        "encoder=ColumnTransformer([('encoder',OneHotEncoder(), [4,5])],remainder='passthrough')\n",
        "features=encoder.fit_transform(features)"
      ],
      "execution_count": null,
      "outputs": []
    },
    {
      "cell_type": "markdown",
      "metadata": {
        "id": "QgPTn--27c9h"
      },
      "source": [
        "**Removing redundancy columns from the features**"
      ]
    },
    {
      "cell_type": "code",
      "metadata": {
        "id": "JkywlCkr61h6"
      },
      "source": [
        "temp1=features[:, 1:19]"
      ],
      "execution_count": null,
      "outputs": []
    },
    {
      "cell_type": "code",
      "metadata": {
        "id": "G1yY6o3s7oDa"
      },
      "source": [
        "temp2=features[:,20:]"
      ],
      "execution_count": null,
      "outputs": []
    },
    {
      "cell_type": "code",
      "metadata": {
        "id": "YsNruIfD73Ic"
      },
      "source": [
        "#Concatenating temp1 and temp2 \n",
        "features=np.concatenate((temp1,temp2), axis=1)"
      ],
      "execution_count": null,
      "outputs": []
    },
    {
      "cell_type": "code",
      "metadata": {
        "colab": {
          "base_uri": "https://localhost:8080/"
        },
        "id": "7AzdzUBN77QT",
        "outputId": "527e7cde-02e0-4a00-f3b5-541c831e509c"
      },
      "source": [
        "features"
      ],
      "execution_count": null,
      "outputs": [
        {
          "output_type": "execute_result",
          "data": {
            "text/plain": [
              "array([[0.0, 0.0, 0.0, ..., 820.8309722222223, 0, 0],\n",
              "       [0.0, 0.0, 0.0, ..., 1035.3097916666666, 0, 0],\n",
              "       [0.0, 0.0, 0.0, ..., 848.1208449074074, 0, 0],\n",
              "       ...,\n",
              "       [0.0, 0.0, 0.0, ..., 442.221875, 0, 0],\n",
              "       [0.0, 0.0, 0.0, ..., 300.8525, 0, 0],\n",
              "       [0.0, 0.0, 0.0, ..., 123.5997800925926, 0, 0]], dtype=object)"
            ]
          },
          "metadata": {
            "tags": []
          },
          "execution_count": 59
        }
      ]
    },
    {
      "cell_type": "markdown",
      "metadata": {
        "id": "rZ9OYmZ5DMIJ"
      },
      "source": [
        "####**1.5. SMOTE**"
      ]
    },
    {
      "cell_type": "markdown",
      "metadata": {
        "id": "5hMYAxxIDnuI"
      },
      "source": [
        "* As we can see in our data analysis part, our target variabel isFraud is highly imbalanced, where there're 773946 negative class but only 12417 positive class. So I decide to use SMOTE to over-sample the dataset.\n",
        "* SMOTE generates the virtual training records by randomly selecting one or more of the k-nearest neighbors for each example in the minority class. After the oversampling process, the data is reconstructed"
      ]
    },
    {
      "cell_type": "code",
      "metadata": {
        "colab": {
          "base_uri": "https://localhost:8080/"
        },
        "id": "zvIYZH5r9aAH",
        "outputId": "82ed68e9-10a0-4897-bca3-6067bb676044"
      },
      "source": [
        "# Using SMOTE to oversample the dataset\n",
        "sm = SMOTE(random_state=4)\n",
        "features_smote, labels_smote = SMOTE().fit_sample(features, labels)\n",
        "\n",
        "print(\"Original data distribution: \")\n",
        "print(labels.isFraud.value_counts())\n",
        "print(\"SMOTE data distribution: \")\n",
        "smote_labels=pd.DataFrame(labels_smote,columns=['isFraud'])\n",
        "print(smote_labels.value_counts())"
      ],
      "execution_count": null,
      "outputs": [
        {
          "output_type": "stream",
          "text": [
            "Original data distribution: \n",
            "0    773946\n",
            "1     12417\n",
            "Name: isFraud, dtype: int64\n",
            "SMOTE data distribution: \n",
            "isFraud\n",
            "1          773946\n",
            "0          773946\n",
            "dtype: int64\n"
          ],
          "name": "stdout"
        }
      ]
    },
    {
      "cell_type": "markdown",
      "metadata": {
        "id": "xO57JCRhYU_Q"
      },
      "source": [
        "####**1.6. Model building**"
      ]
    },
    {
      "cell_type": "markdown",
      "metadata": {
        "id": "NHPY6uXGYf2-"
      },
      "source": [
        "* In the model building part, I use RandomSearchCV and K-Folds CV to optimize my model."
      ]
    },
    {
      "cell_type": "markdown",
      "metadata": {
        "id": "m0B4olKLYj8X"
      },
      "source": [
        "**1.6.1. Decision Tree model**"
      ]
    },
    {
      "cell_type": "markdown",
      "metadata": {
        "id": "BpMFBFujYq_F"
      },
      "source": [
        "* The decision true are generally in form of if-then-else statements. The deeper the tree, the more complex the rules and fitter the model.\n",
        "\n",
        "* I will try decision tree model first because it's a very interpretable model and it's very transparent. If we are going to show the workflow of our machine learning model to our non-technical clients, decision tree may be a good choice. We can easily visualize our decision tree model."
      ]
    },
    {
      "cell_type": "code",
      "metadata": {
        "id": "ra6K7lWvXbY9"
      },
      "source": [
        "def DT_pred(X, y):\n",
        "    \n",
        "    # Build models with hyperparameters sets\n",
        "    RSC = RandomizedSearchCV(\n",
        "        estimator=DecisionTreeClassifier(),\n",
        "        param_distributions={\n",
        "            'criterion': ['gini', 'entropy'],\n",
        "            'max_depth': range(1, 100, 10),\n",
        "            'max_features': ['auto', 'sqrt', 'log2']}, \n",
        "        cv=3, scoring='roc_auc', n_jobs=-1, verbose = True)\n",
        "    \n",
        "    # Fit RandomizedSearchCV to find best hyperparameters\n",
        "    search_result = RSC.fit(X, y)\n",
        "    print(\"Best using: \", search_result.best_params_, \"Score: \", search_result.best_score_)\n",
        "\n",
        "    # Build models with optimized hyperparameters\n",
        "    model_DT = DecisionTreeClassifier(\n",
        "        criterion=search_result.best_params_[\"criterion\"],\n",
        "        max_depth=search_result.best_params_[\"max_depth\"],\n",
        "        max_features=search_result.best_params_[\"max_features\"])\n",
        "\n",
        "    # Split dataset into 3 consecutive folds\n",
        "    kf = KFold(n_splits=3, shuffle=True, random_state=None)\n",
        "    \n",
        "    i = 1\n",
        "    for train, test in kf.split(X):  \n",
        "        X_train = X[train,:]\n",
        "        y_train = y[train]\n",
        "        X_test = X[test,:]\n",
        "        y_test = y[test]\n",
        "        model_DT.fit(X_train, y_train)\n",
        "        train_pred = model_DT.predict(X_train)\n",
        "        y_pred = model_DT.predict(X_test)\n",
        "        \n",
        "        train_accuracy = accuracy_score(y_train, train_pred)\n",
        "        train_precision = precision_score(y_train, train_pred)\n",
        "        train_recall = recall_score(y_train, train_pred)\n",
        "        train_auc = roc_auc_score(y_train, train_pred)\n",
        "        \n",
        "        test_accuracy = accuracy_score(y_test, y_pred)\n",
        "        test_precision = precision_score(y_test, y_pred)\n",
        "        test_recall = recall_score(y_test, y_pred)\n",
        "        test_auc = roc_auc_score(y_test, y_pred)        \n",
        "        \n",
        "        print('Fold '+ str(i), ':  Training accuracy: ', train_accuracy, 'Testing accuracy: ', test_accuracy)\n",
        "        print('Fold '+ str(i), ':  Training precision: ', train_precision, 'Testing precision: ', test_precision)\n",
        "        print('Fold '+ str(i), ':  Training recall: ', train_recall, 'Testing accuracy: ', test_recall)\n",
        "        print('Fold '+ str(i), ':  Training auc: ', train_auc, 'Testing auc: ', test_auc)\n",
        "        \n",
        "        i += 1\n",
        "        \n",
        "    return model_DT"
      ],
      "execution_count": null,
      "outputs": []
    },
    {
      "cell_type": "code",
      "metadata": {
        "colab": {
          "base_uri": "https://localhost:8080/"
        },
        "id": "H8k_rTUbaAUr",
        "outputId": "64473ab4-c7da-44c5-8a42-bb33a4034946"
      },
      "source": [
        "model_DT = DT_pred(features_smote, labels_smote)"
      ],
      "execution_count": null,
      "outputs": [
        {
          "output_type": "stream",
          "text": [
            "Fitting 3 folds for each of 10 candidates, totalling 30 fits\n"
          ],
          "name": "stdout"
        },
        {
          "output_type": "stream",
          "text": [
            "[Parallel(n_jobs=-1)]: Using backend LokyBackend with 2 concurrent workers.\n",
            "[Parallel(n_jobs=-1)]: Done  30 out of  30 | elapsed:  1.9min finished\n"
          ],
          "name": "stderr"
        },
        {
          "output_type": "stream",
          "text": [
            "Best using:  {'max_features': 'auto', 'max_depth': 21, 'criterion': 'gini'} Score:  0.9753910950783863\n",
            "Fold 1 :  Training accuracy:  0.924669162964858 Testing accuracy:  0.91969982401873\n",
            "Fold 1 :  Training precision:  0.9293979146303003 Testing precision:  0.9240874538875582\n",
            "Fold 1 :  Training recall:  0.919224502527322 Testing accuracy:  0.9143944419229829\n",
            "Fold 1 :  Training auc:  0.9246712214615596 Testing auc:  0.9196958168859929\n",
            "Fold 2 :  Training accuracy:  0.9217251591196285 Testing accuracy:  0.9163042382801901\n",
            "Fold 2 :  Training precision:  0.9232790075407443 Testing precision:  0.9185921976562591\n",
            "Fold 2 :  Training recall:  0.91983505202608 Testing accuracy:  0.9136887122453485\n",
            "Fold 2 :  Training auc:  0.9217245548759793 Testing auc:  0.916305912187635\n",
            "Fold 3 :  Training accuracy:  0.920994487987534 Testing accuracy:  0.9177985285795133\n",
            "Fold 3 :  Training precision:  0.9334281860123561 Testing precision:  0.9305487325113728\n",
            "Fold 3 :  Training recall:  0.9066411595281567 Testing accuracy:  0.9030122629955196\n",
            "Fold 3 :  Training auc:  0.9209936534819898 Testing auc:  0.9178002482326562\n"
          ],
          "name": "stdout"
        }
      ]
    },
    {
      "cell_type": "markdown",
      "metadata": {
        "id": "LgF-brz17U5F"
      },
      "source": [
        "**1.6.2. KNN model**"
      ]
    },
    {
      "cell_type": "code",
      "metadata": {
        "id": "RD4yhdGa-uQE"
      },
      "source": [
        "def KNN_pred(X, y):\n",
        "  model_KNN = KNN(n_neighbors=5)\n",
        "  # Split dataset into 3 consecutive folds\n",
        "  kf = KFold(n_splits=3, shuffle=True, random_state=None)\n",
        "    \n",
        "  i = 1\n",
        "  for train, test in kf.split(X):  \n",
        "      X_train = X[train,:]\n",
        "      y_train = y[train]\n",
        "      X_test = X[test,:]\n",
        "      y_test = y[test]\n",
        "      model_KNN.fit(X_train, y_train)\n",
        "      train_pred = model_KNN.predict(X_train)\n",
        "      y_pred = model_KNN.predict(X_test)\n",
        "      \n",
        "      train_accuracy = accuracy_score(y_train, train_pred)\n",
        "      train_precision = precision_score(y_train, train_pred)\n",
        "      train_recall = recall_score(y_train, train_pred)\n",
        "      train_auc = roc_auc_score(y_train, train_pred)\n",
        "      \n",
        "      test_accuracy = accuracy_score(y_test, y_pred)\n",
        "      test_precision = precision_score(y_test, y_pred)\n",
        "      test_recall = recall_score(y_test, y_pred)\n",
        "      test_auc = roc_auc_score(y_test, y_pred)        \n",
        "      \n",
        "      print('Fold '+ str(i), ':  Training accuracy: ', train_accuracy, 'Testing accuracy: ', test_accuracy)\n",
        "      print('Fold '+ str(i), ':  Training precision: ', train_precision, 'Testing precision: ', test_precision)\n",
        "      print('Fold '+ str(i), ':  Training recall: ', train_recall, 'Testing accuracy: ', test_recall)\n",
        "      print('Fold '+ str(i), ':  Training auc: ', train_auc, 'Testing auc: ', test_auc)\n",
        "      \n",
        "      i += 1\n",
        "      \n",
        "  return model_KNN\n"
      ],
      "execution_count": null,
      "outputs": []
    },
    {
      "cell_type": "code",
      "metadata": {
        "colab": {
          "base_uri": "https://localhost:8080/"
        },
        "id": "kCaIrjZ5A-f-",
        "outputId": "5821cbe8-5f47-4d29-8b11-c44fc11ae663"
      },
      "source": [
        "model_KNN = KNN_pred(features_smote, labels_smote)"
      ],
      "execution_count": null,
      "outputs": [
        {
          "output_type": "stream",
          "text": [
            "Fold 1 :  Training accuracy:  0.9370954175097488 Testing accuracy:  0.9127865509996822\n",
            "Fold 1 :  Training precision:  0.890616161948138 Testing precision:  0.8561415746389035\n",
            "Fold 1 :  Training recall:  0.9967534730288529 Testing accuracy:  0.9918335314731501\n",
            "Fold 1 :  Training auc:  0.937027352763534 Testing auc:  0.9129663074467502\n",
            "Fold 2 :  Training accuracy:  0.9371467776821639 Testing accuracy:  0.9134183780263739\n",
            "Fold 2 :  Training precision:  0.8905750757225463 Testing precision:  0.8570797348865234\n",
            "Fold 2 :  Training recall:  0.9967553423462713 Testing accuracy:  0.9923378329670841\n",
            "Fold 2 :  Training auc:  0.9371512829544625 Testing auc:  0.9134064457051143\n",
            "Fold 3 :  Training accuracy:  0.9370014187036305 Testing accuracy:  0.9128776426262297\n",
            "Fold 3 :  Training precision:  0.8902279481203593 Testing precision:  0.8568559503560557\n",
            "Fold 3 :  Training recall:  0.9967792943550343 Testing accuracy:  0.9918152948775969\n",
            "Fold 3 :  Training auc:  0.9370649564146515 Testing auc:  0.9127093006844973\n"
          ],
          "name": "stdout"
        }
      ]
    },
    {
      "cell_type": "code",
      "metadata": {
        "id": "ltn35Ec1BVvd"
      },
      "source": [
        "# Save my models as pickle files\n",
        "file='fraudulent.pkl'\n",
        "pickle.dump(model_DT,open(file,'wb'))"
      ],
      "execution_count": null,
      "outputs": []
    },
    {
      "cell_type": "markdown",
      "metadata": {
        "id": "Wwc_XpyZJChf"
      },
      "source": [
        "####**2. Provide an estimate of performance using an appropriate sample.**"
      ]
    },
    {
      "cell_type": "code",
      "metadata": {
        "id": "JxK-ll2JIePb"
      },
      "source": [
        "features_train, features_test, labels_train, labels_test = train_test_split(features_smote, labels_smote, random_state=2, test_size=0.30)"
      ],
      "execution_count": null,
      "outputs": []
    },
    {
      "cell_type": "code",
      "metadata": {
        "id": "kZhW9CXaJgAT"
      },
      "source": [
        "def plot_performance(y_test, y_pred, y_pred_prob):\n",
        "\n",
        "\n",
        "    test_fpr, test_tpr, _ = roc_curve(y_test, y_pred_prob)\n",
        "    precision, recall, _ = precision_recall_curve(y_test, y_pred)\n",
        "    \n",
        "    # ROC Curve\n",
        "    fig = plt.figure(1, figsize=(10,5))\n",
        "    plt.subplot(1, 2, 1)\n",
        "    plt.plot(test_fpr, test_tpr, label=\"ROC (area = %0.4f)\" % roc_auc_score(y_test, y_pred), color=\"blue\", lw=2)\n",
        "    plt.plot([0, 1], [0, 1], \"k--\")\n",
        "    plt.legend(loc=\"lower right\")\n",
        "    plt.xlabel(\"False Positive Rate\")\n",
        "    plt.ylabel(\"True Positive Rate\")\n",
        "    plt.title(\"ROC Curve\")\n",
        "    \n",
        "    \n",
        "    # Precision Recall Curve\n",
        "    plt.subplot(1, 2, 2)\n",
        "    plt.plot(recall, precision, marker='.', color=\"blue\", lw=2)\n",
        "    plt.xlabel('Recall')\n",
        "    plt.ylabel('Precision')\n",
        "    plt.title(\"Precision Recall Curve\")\n",
        "    \n",
        "    \n",
        "    plt.tight_layout()\n",
        "    plt.show()"
      ],
      "execution_count": null,
      "outputs": []
    },
    {
      "cell_type": "code",
      "metadata": {
        "id": "IzSFSNz0JoS6"
      },
      "source": [
        "def plot_confusion(y_test, y_pred):   \n",
        "    \n",
        "    cm = confusion_matrix(y_test, y_pred)\n",
        "    \n",
        "    # Confusion Matrix\n",
        "    plt.figure(figsize=(10,10))\n",
        "    ax =  fig.add_subplot(1,1,1, adjustable='box', aspect=1)\n",
        "    plt.imshow(cm, interpolation='nearest', cmap=plt.cm.Blues)\n",
        "    plt.colorbar()\n",
        "\n",
        "    thresh = cm.max() / 2.\n",
        "    for i, j in itertools.product(range(cm.shape[0]), range(cm.shape[1])):\n",
        "        plt.text(j, i, format(cm[i, j], 'd'),\n",
        "                 horizontalalignment=\"center\",\n",
        "                 color=\"white\" if cm[i, j] > thresh else \"black\")\n",
        "\n",
        "    plt.ylabel('True label')\n",
        "    plt.xlabel('Predicted label')\n",
        "\n",
        "    np.set_printoptions(precision=2)\n",
        "    plt.show()"
      ],
      "execution_count": null,
      "outputs": []
    },
    {
      "cell_type": "code",
      "metadata": {
        "colab": {
          "base_uri": "https://localhost:8080/",
          "height": 926
        },
        "id": "9ndaQ4QWJtQ-",
        "outputId": "7e5bcccc-656d-4082-f92e-f8cdddfa3357"
      },
      "source": [
        "# Decision Tree performance\n",
        "\n",
        "y_pred = model_DT.predict(features_test)\n",
        "y_pred_prob = model_DT.predict_proba(features_test)\n",
        "y_pred_prob = y_pred_prob[:, 1]\n",
        "\n",
        "plot_performance(labels_test, y_pred, y_pred_prob)\n",
        "plot_confusion(labels_test, y_pred)"
      ],
      "execution_count": null,
      "outputs": [
        {
          "output_type": "display_data",
          "data": {
            "image/png": "[encoded data removed]",
            "text/plain": [
              "<Figure size 720x360 with 2 Axes>"
            ]
          },
          "metadata": {
            "tags": [],
            "needs_background": "light"
          }
        },
        {
          "output_type": "display_data",
          "data": {
            "image/png": "[encoded data removed]",
            "text/plain": [
              "<Figure size 720x720 with 2 Axes>"
            ]
          },
          "metadata": {
            "tags": [],
            "needs_background": "light"
          }
        }
      ]
    },
    {
      "cell_type": "code",
      "metadata": {
        "colab": {
          "base_uri": "https://localhost:8080/",
          "height": 926
        },
        "id": "jIExwLFwJ5q_",
        "outputId": "6aa56164-bb99-4f7a-d5a3-8b2b2a0a8899"
      },
      "source": [
        "# KNN performance\n",
        "y_pred = model_KNN.predict(features_test)\n",
        "y_pred_prob = model_KNN.predict_proba(features_test)\n",
        "y_pred_prob = y_pred_prob[:, 1]\n",
        "\n",
        "plot_performance(labels_test, y_pred, y_pred_prob)\n",
        "plot_confusion(labels_test, y_pred)"
      ],
      "execution_count": null,
      "outputs": [
        {
          "output_type": "display_data",
          "data": {
            "image/png": "[encoded data removed]",
            "text/plain": [
              "<Figure size 720x360 with 2 Axes>"
            ]
          },
          "metadata": {
            "tags": [],
            "needs_background": "light"
          }
        },
        {
          "output_type": "display_data",
          "data": {
            "image/png": "[encoded data removed]",
            "text/plain": [
              "<Figure size 720x720 with 2 Axes>"
            ]
          },
          "metadata": {
            "tags": [],
            "needs_background": "light"
          }
        }
      ]
    },
    {
      "cell_type": "markdown",
      "metadata": {
        "id": "Tiq7URdWKrDO"
      },
      "source": [
        "I made 2 plots to evaluate each of these three model, ROC Curve, Precision-recall Curve and Confusion Matrix."
      ]
    },
    {
      "cell_type": "markdown",
      "metadata": {
        "id": "AB1JqdbtK3TH"
      },
      "source": [
        "####**3. Explain your methodology (modeling algorithm/method used and why, what features/data you found useful, what questions you have, and what you would do next with more time)** "
      ]
    },
    {
      "cell_type": "markdown",
      "metadata": {
        "id": "sEl6XxwiK8K-"
      },
      "source": [
        "**Methodology**"
      ]
    },
    {
      "cell_type": "markdown",
      "metadata": {
        "id": "lb2lDSVXLBGn"
      },
      "source": [
        "* SMOTE: In the original dataset, the class within our target variable “isFraud” is quite imbalanced. Fraud cases are much less than normal cases. So I will use SMOTE function to oversample my dataset. SMOTE generates the virtual training records by randomly selecting one or more of the k-nearest neighbors for each example in the minority class. After the oversampling process, the data is reconstructed and the performance of our classification models can be better.\n",
        "* Cross validation: cross validation is an algorithm that can ensure that each and every instance of the dataset will be trained and tested. The K-Fold Cross Validation works by first dividing the dataset into k-subsets. I divided the dataset into (k=3) parts. We reserve 1 part for testing and train the algorithm over the 2 parts. We continue the process by changing the testing part in each iteration and training the algorithm over the other parts. The accuracies and errors are then averaged of the algorithm. With cross-validation, we can achieve a generalized model.\n",
        "* RandomizedSearchCV: Random Search is a hyperparameter tuning algorithm. It helps us select models by setting up a grid of hyperparameter values and selecting random combinations to train the model and score. This allows us to explicitly control the number of parameter combinations that are attempted. It’s more efficient than GridSearchCV and its chance of finding the optimal parameter are comparatively.\n",
        "* Decision Tree: Decision tree is a non-parametric supervised learning method. The rule for decision tree algorithm are generally in form of if-then-else statements. The deeper the tree, the more complex the rules and fitter the model. The reason why I use decision trees is that it's a very interpretable model and it's very transparent. If we are going to show the workflow of our machine learning model to our non-technical clients, decision tree may be a very good choice. We can easily visualize our decision tree model."
      ]
    },
    {
      "cell_type": "markdown",
      "metadata": {
        "id": "wH09ZDYONrn7"
      },
      "source": [
        "#**Thanks**"
      ]
    }
  ]
}